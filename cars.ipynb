{
 "cells": [
  {
   "cell_type": "markdown",
   "metadata": {},
   "source": [
    "INTRODUCTION"
   ]
  },
  {
   "cell_type": "code",
   "execution_count": 2062,
   "metadata": {},
   "outputs": [],
   "source": [
    "#import the libraries\n",
    "import pandas as pd\n",
    "import numpy as np\n",
    "import matplotlib.pyplot as plt\n",
    "import seaborn as sns"
   ]
  },
  {
   "cell_type": "code",
   "execution_count": 1963,
   "metadata": {},
   "outputs": [],
   "source": [
    "#create a function to load the data\n",
    "def load_data(url):\n",
    "    cars = pd.read_csv(url)\n",
    "    return cars"
   ]
  },
  {
   "cell_type": "code",
   "execution_count": 1964,
   "metadata": {},
   "outputs": [],
   "source": [
    "cars = load_data('used_cars_data.csv')"
   ]
  },
  {
   "cell_type": "code",
   "execution_count": 1965,
   "metadata": {},
   "outputs": [
    {
     "data": {
      "text/html": [
       "<div>\n",
       "<style scoped>\n",
       "    .dataframe tbody tr th:only-of-type {\n",
       "        vertical-align: middle;\n",
       "    }\n",
       "\n",
       "    .dataframe tbody tr th {\n",
       "        vertical-align: top;\n",
       "    }\n",
       "\n",
       "    .dataframe thead th {\n",
       "        text-align: right;\n",
       "    }\n",
       "</style>\n",
       "<table border=\"1\" class=\"dataframe\">\n",
       "  <thead>\n",
       "    <tr style=\"text-align: right;\">\n",
       "      <th></th>\n",
       "      <th>S.No.</th>\n",
       "      <th>Name</th>\n",
       "      <th>Location</th>\n",
       "      <th>Year</th>\n",
       "      <th>Kilometers_Driven</th>\n",
       "      <th>Fuel_Type</th>\n",
       "      <th>Transmission</th>\n",
       "      <th>Owner_Type</th>\n",
       "      <th>Mileage</th>\n",
       "      <th>Engine</th>\n",
       "      <th>Power</th>\n",
       "      <th>Seats</th>\n",
       "      <th>New_Price</th>\n",
       "      <th>Price</th>\n",
       "    </tr>\n",
       "  </thead>\n",
       "  <tbody>\n",
       "    <tr>\n",
       "      <th>0</th>\n",
       "      <td>0</td>\n",
       "      <td>Maruti Wagon R LXI CNG</td>\n",
       "      <td>Mumbai</td>\n",
       "      <td>2010</td>\n",
       "      <td>72000</td>\n",
       "      <td>CNG</td>\n",
       "      <td>Manual</td>\n",
       "      <td>First</td>\n",
       "      <td>26.6 km/kg</td>\n",
       "      <td>998 CC</td>\n",
       "      <td>58.16 bhp</td>\n",
       "      <td>5.0</td>\n",
       "      <td>5.51</td>\n",
       "      <td>1.75</td>\n",
       "    </tr>\n",
       "    <tr>\n",
       "      <th>1</th>\n",
       "      <td>1</td>\n",
       "      <td>Hyundai Creta 1.6 CRDi SX Option</td>\n",
       "      <td>Pune</td>\n",
       "      <td>2015</td>\n",
       "      <td>41000</td>\n",
       "      <td>Diesel</td>\n",
       "      <td>Manual</td>\n",
       "      <td>First</td>\n",
       "      <td>19.67 kmpl</td>\n",
       "      <td>1582 CC</td>\n",
       "      <td>126.2 bhp</td>\n",
       "      <td>5.0</td>\n",
       "      <td>16.06</td>\n",
       "      <td>12.50</td>\n",
       "    </tr>\n",
       "    <tr>\n",
       "      <th>2</th>\n",
       "      <td>2</td>\n",
       "      <td>Honda Jazz V</td>\n",
       "      <td>Chennai</td>\n",
       "      <td>2011</td>\n",
       "      <td>46000</td>\n",
       "      <td>Petrol</td>\n",
       "      <td>Manual</td>\n",
       "      <td>First</td>\n",
       "      <td>18.2 kmpl</td>\n",
       "      <td>1199 CC</td>\n",
       "      <td>88.7 bhp</td>\n",
       "      <td>5.0</td>\n",
       "      <td>8.61</td>\n",
       "      <td>4.50</td>\n",
       "    </tr>\n",
       "    <tr>\n",
       "      <th>3</th>\n",
       "      <td>3</td>\n",
       "      <td>Maruti Ertiga VDI</td>\n",
       "      <td>Chennai</td>\n",
       "      <td>2012</td>\n",
       "      <td>87000</td>\n",
       "      <td>Diesel</td>\n",
       "      <td>Manual</td>\n",
       "      <td>First</td>\n",
       "      <td>20.77 kmpl</td>\n",
       "      <td>1248 CC</td>\n",
       "      <td>88.76 bhp</td>\n",
       "      <td>7.0</td>\n",
       "      <td>11.27</td>\n",
       "      <td>6.00</td>\n",
       "    </tr>\n",
       "    <tr>\n",
       "      <th>4</th>\n",
       "      <td>4</td>\n",
       "      <td>Audi A4 New 2.0 TDI Multitronic</td>\n",
       "      <td>Coimbatore</td>\n",
       "      <td>2013</td>\n",
       "      <td>40670</td>\n",
       "      <td>Diesel</td>\n",
       "      <td>Automatic</td>\n",
       "      <td>Second</td>\n",
       "      <td>15.2 kmpl</td>\n",
       "      <td>1968 CC</td>\n",
       "      <td>140.8 bhp</td>\n",
       "      <td>5.0</td>\n",
       "      <td>53.14</td>\n",
       "      <td>17.74</td>\n",
       "    </tr>\n",
       "    <tr>\n",
       "      <th>5</th>\n",
       "      <td>5</td>\n",
       "      <td>Hyundai EON LPG Era Plus Option</td>\n",
       "      <td>Hyderabad</td>\n",
       "      <td>2012</td>\n",
       "      <td>75000</td>\n",
       "      <td>LPG</td>\n",
       "      <td>Manual</td>\n",
       "      <td>First</td>\n",
       "      <td>21.1 km/kg</td>\n",
       "      <td>814 CC</td>\n",
       "      <td>55.2 bhp</td>\n",
       "      <td>5.0</td>\n",
       "      <td>10.25</td>\n",
       "      <td>2.35</td>\n",
       "    </tr>\n",
       "    <tr>\n",
       "      <th>6</th>\n",
       "      <td>6</td>\n",
       "      <td>Nissan Micra Diesel XV</td>\n",
       "      <td>Jaipur</td>\n",
       "      <td>2013</td>\n",
       "      <td>86999</td>\n",
       "      <td>Diesel</td>\n",
       "      <td>Manual</td>\n",
       "      <td>First</td>\n",
       "      <td>23.08 kmpl</td>\n",
       "      <td>1461 CC</td>\n",
       "      <td>63.1 bhp</td>\n",
       "      <td>5.0</td>\n",
       "      <td>9.47</td>\n",
       "      <td>3.50</td>\n",
       "    </tr>\n",
       "    <tr>\n",
       "      <th>7</th>\n",
       "      <td>7</td>\n",
       "      <td>Toyota Innova Crysta 2.8 GX AT 8S</td>\n",
       "      <td>Mumbai</td>\n",
       "      <td>2016</td>\n",
       "      <td>36000</td>\n",
       "      <td>Diesel</td>\n",
       "      <td>Automatic</td>\n",
       "      <td>First</td>\n",
       "      <td>11.36 kmpl</td>\n",
       "      <td>2755 CC</td>\n",
       "      <td>171.5 bhp</td>\n",
       "      <td>8.0</td>\n",
       "      <td>21.00</td>\n",
       "      <td>17.50</td>\n",
       "    </tr>\n",
       "    <tr>\n",
       "      <th>8</th>\n",
       "      <td>8</td>\n",
       "      <td>Volkswagen Vento Diesel Comfortline</td>\n",
       "      <td>Pune</td>\n",
       "      <td>2013</td>\n",
       "      <td>64430</td>\n",
       "      <td>Diesel</td>\n",
       "      <td>Manual</td>\n",
       "      <td>First</td>\n",
       "      <td>20.54 kmpl</td>\n",
       "      <td>1598 CC</td>\n",
       "      <td>103.6 bhp</td>\n",
       "      <td>5.0</td>\n",
       "      <td>13.23</td>\n",
       "      <td>5.20</td>\n",
       "    </tr>\n",
       "    <tr>\n",
       "      <th>9</th>\n",
       "      <td>9</td>\n",
       "      <td>Tata Indica Vista Quadrajet LS</td>\n",
       "      <td>Chennai</td>\n",
       "      <td>2012</td>\n",
       "      <td>65932</td>\n",
       "      <td>Diesel</td>\n",
       "      <td>Manual</td>\n",
       "      <td>Second</td>\n",
       "      <td>22.3 kmpl</td>\n",
       "      <td>1248 CC</td>\n",
       "      <td>74 bhp</td>\n",
       "      <td>5.0</td>\n",
       "      <td>7.63</td>\n",
       "      <td>1.95</td>\n",
       "    </tr>\n",
       "  </tbody>\n",
       "</table>\n",
       "</div>"
      ],
      "text/plain": [
       "   S.No.                                 Name    Location  Year  \\\n",
       "0      0               Maruti Wagon R LXI CNG      Mumbai  2010   \n",
       "1      1     Hyundai Creta 1.6 CRDi SX Option        Pune  2015   \n",
       "2      2                         Honda Jazz V     Chennai  2011   \n",
       "3      3                    Maruti Ertiga VDI     Chennai  2012   \n",
       "4      4      Audi A4 New 2.0 TDI Multitronic  Coimbatore  2013   \n",
       "5      5      Hyundai EON LPG Era Plus Option   Hyderabad  2012   \n",
       "6      6               Nissan Micra Diesel XV      Jaipur  2013   \n",
       "7      7    Toyota Innova Crysta 2.8 GX AT 8S      Mumbai  2016   \n",
       "8      8  Volkswagen Vento Diesel Comfortline        Pune  2013   \n",
       "9      9       Tata Indica Vista Quadrajet LS     Chennai  2012   \n",
       "\n",
       "   Kilometers_Driven Fuel_Type Transmission Owner_Type     Mileage   Engine  \\\n",
       "0              72000       CNG       Manual      First  26.6 km/kg   998 CC   \n",
       "1              41000    Diesel       Manual      First  19.67 kmpl  1582 CC   \n",
       "2              46000    Petrol       Manual      First   18.2 kmpl  1199 CC   \n",
       "3              87000    Diesel       Manual      First  20.77 kmpl  1248 CC   \n",
       "4              40670    Diesel    Automatic     Second   15.2 kmpl  1968 CC   \n",
       "5              75000       LPG       Manual      First  21.1 km/kg   814 CC   \n",
       "6              86999    Diesel       Manual      First  23.08 kmpl  1461 CC   \n",
       "7              36000    Diesel    Automatic      First  11.36 kmpl  2755 CC   \n",
       "8              64430    Diesel       Manual      First  20.54 kmpl  1598 CC   \n",
       "9              65932    Diesel       Manual     Second   22.3 kmpl  1248 CC   \n",
       "\n",
       "       Power  Seats  New_Price  Price  \n",
       "0  58.16 bhp    5.0       5.51   1.75  \n",
       "1  126.2 bhp    5.0      16.06  12.50  \n",
       "2   88.7 bhp    5.0       8.61   4.50  \n",
       "3  88.76 bhp    7.0      11.27   6.00  \n",
       "4  140.8 bhp    5.0      53.14  17.74  \n",
       "5   55.2 bhp    5.0      10.25   2.35  \n",
       "6   63.1 bhp    5.0       9.47   3.50  \n",
       "7  171.5 bhp    8.0      21.00  17.50  \n",
       "8  103.6 bhp    5.0      13.23   5.20  \n",
       "9     74 bhp    5.0       7.63   1.95  "
      ]
     },
     "execution_count": 1965,
     "metadata": {},
     "output_type": "execute_result"
    }
   ],
   "source": [
    "cars.head(10)"
   ]
  },
  {
   "cell_type": "code",
   "execution_count": 1966,
   "metadata": {},
   "outputs": [],
   "source": [
    "#create a function to do exploratory data analysis\n",
    "def EDA(df):\n",
    "    info = df.info()\n",
    "    shape = df.shape\n",
    "    columns = df.columns\n",
    "    missing = df.isna().sum()\n",
    "    return info,shape,columns,missing"
   ]
  },
  {
   "cell_type": "code",
   "execution_count": 1967,
   "metadata": {},
   "outputs": [
    {
     "name": "stdout",
     "output_type": "stream",
     "text": [
      "<class 'pandas.core.frame.DataFrame'>\n",
      "RangeIndex: 7253 entries, 0 to 7252\n",
      "Data columns (total 14 columns):\n",
      " #   Column             Non-Null Count  Dtype  \n",
      "---  ------             --------------  -----  \n",
      " 0   S.No.              7253 non-null   int64  \n",
      " 1   Name               7253 non-null   object \n",
      " 2   Location           7253 non-null   object \n",
      " 3   Year               7253 non-null   int64  \n",
      " 4   Kilometers_Driven  7253 non-null   int64  \n",
      " 5   Fuel_Type          7253 non-null   object \n",
      " 6   Transmission       7253 non-null   object \n",
      " 7   Owner_Type         7253 non-null   object \n",
      " 8   Mileage            7251 non-null   object \n",
      " 9   Engine             7207 non-null   object \n",
      " 10  Power              7078 non-null   object \n",
      " 11  Seats              7200 non-null   float64\n",
      " 12  New_Price          7253 non-null   float64\n",
      " 13  Price              6019 non-null   float64\n",
      "dtypes: float64(3), int64(3), object(8)\n",
      "memory usage: 793.4+ KB\n"
     ]
    },
    {
     "data": {
      "text/plain": [
       "(None,\n",
       " (7253, 14),\n",
       " Index(['S.No.', 'Name', 'Location', 'Year', 'Kilometers_Driven', 'Fuel_Type',\n",
       "        'Transmission', 'Owner_Type', 'Mileage', 'Engine', 'Power', 'Seats',\n",
       "        'New_Price', 'Price'],\n",
       "       dtype='object'),\n",
       " S.No.                   0\n",
       " Name                    0\n",
       " Location                0\n",
       " Year                    0\n",
       " Kilometers_Driven       0\n",
       " Fuel_Type               0\n",
       " Transmission            0\n",
       " Owner_Type              0\n",
       " Mileage                 2\n",
       " Engine                 46\n",
       " Power                 175\n",
       " Seats                  53\n",
       " New_Price               0\n",
       " Price                1234\n",
       " dtype: int64)"
      ]
     },
     "execution_count": 1967,
     "metadata": {},
     "output_type": "execute_result"
    }
   ],
   "source": [
    "#call the function\n",
    "EDA(cars)"
   ]
  },
  {
   "cell_type": "markdown",
   "metadata": {},
   "source": [
    "### Analysing with Pandas Profiling"
   ]
  },
  {
   "cell_type": "markdown",
   "metadata": {},
   "source": [
    "Now we would use pandas profiling as an exploratory data analysis tool to help get early insights from the data"
   ]
  },
  {
   "cell_type": "code",
   "execution_count": 1968,
   "metadata": {},
   "outputs": [],
   "source": [
    "# !pip install pandas-profiling\n",
    "# from pandas_profiling import ProfileReport"
   ]
  },
  {
   "cell_type": "code",
   "execution_count": 1969,
   "metadata": {},
   "outputs": [],
   "source": [
    "# #use pandas profiling to get early insights from the data before cleaning\n",
    "# prof=ProfileReport(cars)\n",
    "# prof.to_file(\"cars.html\")"
   ]
  },
  {
   "cell_type": "markdown",
   "metadata": {},
   "source": [
    "The dataset contains 7253 rows and 14 variables. The variables include 3 integer data  types, 3 float types and 8 string objects. The data also has some missing values, the mileage, engine, power, , seats and price columns have 2,46,175,53, and 1234 missing values respectively"
   ]
  },
  {
   "cell_type": "markdown",
   "metadata": {},
   "source": [
    "### Data Cleaning "
   ]
  },
  {
   "cell_type": "markdown",
   "metadata": {},
   "source": [
    "let us try and visualise the missing values"
   ]
  },
  {
   "cell_type": "code",
   "execution_count": 1970,
   "metadata": {},
   "outputs": [
    {
     "data": {
      "image/png": "[encoded data removed]",
      "text/plain": [
       "<Figure size 432x288 with 1 Axes>"
      ]
     },
     "metadata": {
      "needs_background": "light"
     },
     "output_type": "display_data"
    }
   ],
   "source": [
    "# missing values\n",
    "sns.heatmap(cars.isnull(),yticklabels=False,cbar=False,cmap='viridis')\n",
    "plt.title('Missing Values');"
   ]
  },
  {
   "cell_type": "markdown",
   "metadata": {},
   "source": [
    "There are missing values in the dataset as I could vizualise with a heatmap. The yellow lines covers the variables that have missing values"
   ]
  },
  {
   "cell_type": "markdown",
   "metadata": {},
   "source": [
    "Then next we check for the unique values in the dataframe"
   ]
  },
  {
   "cell_type": "markdown",
   "metadata": {},
   "source": [
    "### Checking For Unique Values in the Dataframe\n"
   ]
  },
  {
   "cell_type": "code",
   "execution_count": 1971,
   "metadata": {},
   "outputs": [
    {
     "name": "stdout",
     "output_type": "stream",
     "text": [
      "Name ['Maruti Wagon R LXI CNG' 'Hyundai Creta 1.6 CRDi SX Option'\n",
      " 'Honda Jazz V' ... 'Ford EcoSport 1.5 Petrol Ambiente'\n",
      " 'Jeep Compass 1.4 Sport' 'Hyundai Elite i20 Magna Plus'] \n",
      "\n",
      " Location ['Mumbai' 'Pune' 'Chennai' 'Coimbatore' 'Hyderabad' 'Jaipur' 'Kochi'\n",
      " 'Kolkata' 'Delhi' 'Bangalore' 'Ahmedabad'] \n",
      "\n",
      " Year [2010 2015 2011 2012 2013 2016 2018 2014 2017 2007 2009 2008 2019 2006\n",
      " 2005 2004 2002 2000 2003 1999 2001 1998 1996] \n",
      "\n",
      " Kilometers_Driven [72000 41000 46000 ... 89411 52262 72443] \n",
      "\n",
      " Fuel_Type ['CNG' 'Diesel' 'Petrol' 'LPG' 'Electric'] \n",
      "\n",
      " Transmission ['Manual' 'Automatic'] \n",
      "\n",
      " Owner_Type ['First' 'Second' 'Fourth & Above' 'Third'] \n",
      "\n",
      " Mileage ['26.6 km/kg' '19.67 kmpl' '18.2 kmpl' '20.77 kmpl' '15.2 kmpl'\n",
      " '21.1 km/kg' '23.08 kmpl' '11.36 kmpl' '20.54 kmpl' '22.3 kmpl'\n",
      " '21.56 kmpl' '16.8 kmpl' '25.2 kmpl' '12.7 kmpl' '0.0 kmpl' '13.5 kmpl'\n",
      " '25.8 kmpl' '28.4 kmpl' '20.45 kmpl' '14.84 kmpl' '22.69 kmpl'\n",
      " '23.65 kmpl' '13.53 kmpl' '18.5 kmpl' '14.4 kmpl' '20.92 kmpl'\n",
      " '17.5 kmpl' '12.8 kmpl' '19.01 kmpl' '14.53 kmpl' '11.18 kmpl'\n",
      " '12.4 kmpl' '16.09 kmpl' '14.0 kmpl' '24.3 kmpl' '18.15 kmpl'\n",
      " '11.74 kmpl' '22.07 kmpl' '19.7 kmpl' '25.4 kmpl' '25.32 kmpl'\n",
      " '14.62 kmpl' '14.28 kmpl' '14.9 kmpl' '11.25 kmpl' '24.4 kmpl'\n",
      " '16.55 kmpl' '17.11 kmpl' '22.9 kmpl' '17.8 kmpl' '18.9 kmpl'\n",
      " '15.04 kmpl' '25.17 kmpl' '20.36 kmpl' '13.29 kmpl' '13.68 kmpl'\n",
      " '20.0 kmpl' '15.8 kmpl' '25.0 kmpl' '16.4 kmpl' '24.52 kmpl' '22.1 kmpl'\n",
      " '8.5 kmpl' '15.1 kmpl' '16.95 kmpl' '19.64 kmpl' '16.5 kmpl' '18.53 kmpl'\n",
      " '17.57 kmpl' '18.0 kmpl' '23.2 kmpl' '16.73 kmpl' '17.0 kmpl' '13.0 kmpl'\n",
      " '17.68 kmpl' '22.7 kmpl' '16.2 kmpl' '15.26 kmpl' '23.0 kmpl'\n",
      " '19.83 kmpl' '14.94 kmpl' '17.71 kmpl' '14.74 kmpl' '16.0 kmpl'\n",
      " '22.32 kmpl' '12.99 kmpl' '23.3 kmpl' '19.15 kmpl' '10.8 kmpl'\n",
      " '15.0 kmpl' '22.0 kmpl' '21.9 kmpl' '12.05 kmpl' '11.7 kmpl' '21.21 kmpl'\n",
      " '20.73 kmpl' '21.1 kmpl' '24.07 kmpl' '19.0 kmpl' '20.58 kmpl'\n",
      " '19.27 kmpl' '11.5 kmpl' '18.6 kmpl' '21.14 kmpl' '11.05 kmpl'\n",
      " '21.76 kmpl' '7.81 kmpl' '21.66 kmpl' '17.2 kmpl' '20.63 kmpl'\n",
      " '19.4 kmpl' '14.8 kmpl' '26.0 kmpl' '20.4 kmpl' '21.5 kmpl' '15.3 kmpl'\n",
      " '17.9 kmpl' '16.6 kmpl' '22.54 kmpl' '25.44 kmpl' '13.7 kmpl'\n",
      " '22.48 kmpl' '12.9 kmpl' '19.98 kmpl' '21.4 kmpl' '19.81 kmpl'\n",
      " '15.4 kmpl' '25.47 kmpl' '19.87 kmpl' '17.45 kmpl' '14.7 kmpl'\n",
      " '15.64 kmpl' '15.73 kmpl' '23.59 kmpl' '16.1 kmpl' '27.4 kmpl'\n",
      " '20.46 kmpl' '15.29 kmpl' '20.51 kmpl' '11.8 kmpl' '14.3 kmpl'\n",
      " '14.67 kmpl' '17.19 kmpl' '21.03 kmpl' '22.5 kmpl' '16.82 kmpl'\n",
      " '11.72 kmpl' '17.4 kmpl' '17.05 kmpl' '24.0 kmpl' '28.09 kmpl'\n",
      " '20.5 kmpl' '13.1 kmpl' '19.91 kmpl' '18.7 kmpl' '16.38 kmpl'\n",
      " '11.57 kmpl' '17.3 kmpl' '22.95 kmpl' '18.88 kmpl' '23.4 kmpl'\n",
      " '22.74 kmpl' '12.07 kmpl' '17.1 kmpl' '18.48 kmpl' '16.47 kmpl'\n",
      " '23.1 kmpl' '14.07 kmpl' '16.02 kmpl' '19.3 kmpl' '17.7 kmpl' '9.52 kmpl'\n",
      " '14.75 kmpl' '26.3 km/kg' '11.3 kmpl' '21.12 kmpl' '21.02 kmpl'\n",
      " '14.45 kmpl' '19.33 kmpl' '13.8 kmpl' '24.7 kmpl' '11.0 kmpl'\n",
      " '11.07 kmpl' '21.43 kmpl' '14.21 kmpl' '18.86 kmpl' '16.07 kmpl'\n",
      " '13.49 kmpl' '20.38 kmpl' '12.0 kmpl' '17.01 kmpl' '13.2 kmpl'\n",
      " '20.37 kmpl' '15.1 km/kg' '15.96 kmpl' '14.16 kmpl' '13.17 kmpl'\n",
      " '27.62 kmpl' '25.1 kmpl' '15.17 kmpl' '11.33 kmpl' '17.92 kmpl'\n",
      " '12.55 kmpl' '12.6 kmpl' '17.72 kmpl' '18.16 kmpl' '15.68 kmpl'\n",
      " '15.5 kmpl' '12.1 kmpl' '14.83 kmpl' '17.6 kmpl' '14.6 kmpl' '14.66 kmpl'\n",
      " '10.93 kmpl' '20.68 kmpl' '9.9 kmpl' '21.13 kmpl' '20.14 kmpl'\n",
      " '19.2 kmpl' '27.3 kmpl' '16.36 kmpl' '26.59 kmpl' '12.5 kmpl' '13.6 kmpl'\n",
      " '15.06 kmpl' '10.13 kmpl' '17.21 kmpl' '15.97 kmpl' '10.5 kmpl'\n",
      " '14.69 kmpl' '23.9 kmpl' '19.1 kmpl' '21.27 kmpl' '15.9 kmpl' '20.7 kmpl'\n",
      " '14.1 kmpl' '20.89 kmpl' '18.12 kmpl' '12.3 kmpl' '19.71 kmpl'\n",
      " '9.43 kmpl' '13.4 kmpl' '13.14 kmpl' '18.1 kmpl' '22.77 kmpl'\n",
      " '14.49 kmpl' '12.39 kmpl' '10.91 kmpl' '20.85 kmpl' '15.63 kmpl'\n",
      " '27.39 kmpl' '18.3 kmpl' '16.78 kmpl' '25.5 kmpl' '10.0 kmpl'\n",
      " '13.73 kmpl' '24.2 kmpl' '14.02 kmpl' '26.83 km/kg' '16.77 kmpl'\n",
      " '24.5 kmpl' '20.34 kmpl' '21.7 kmpl' '9.7 kmpl' '14.33 kmpl' '21.64 kmpl'\n",
      " '13.2 km/kg' '19.16 kmpl' '16.93 kmpl' '9.0 kmpl' '26.2 km/kg'\n",
      " '16.3 kmpl' '12.62 kmpl' '17.3 km/kg' '20.64 kmpl' '14.24 kmpl'\n",
      " '18.06 kmpl' '10.2 kmpl' '10.1 kmpl' '18.25 kmpl' '13.93 kmpl'\n",
      " '25.83 kmpl' '8.6 kmpl' '13.24 kmpl' '17.09 kmpl' '23.84 kmpl'\n",
      " '8.45 kmpl' '19.6 kmpl' '19.5 kmpl' '20.3 kmpl' '16.05 kmpl' '11.2 kmpl'\n",
      " '27.03 kmpl' '18.78 kmpl' '12.35 kmpl' '14.59 kmpl' '17.32 kmpl'\n",
      " '14.95 kmpl' '13.22 kmpl' '23.03 kmpl' '33.44 km/kg' '15.6 kmpl'\n",
      " '19.12 kmpl' '10.98 kmpl' '33.54 km/kg' '16.46 kmpl' '18.4 kmpl'\n",
      " '11.1 kmpl' '13.01 kmpl' '18.8 kmpl' '16.52 kmpl' '18.44 kmpl'\n",
      " '19.49 kmpl' '23.5 kmpl' '23.8 kmpl' '12.65 kmpl' '20.65 kmpl'\n",
      " '21.72 kmpl' '12.19 kmpl' '26.1 kmpl' '18.33 kmpl' '12.81 kmpl'\n",
      " '17.5 km/kg' '17.06 kmpl' '17.67 kmpl' '19.34 kmpl' '8.3 kmpl'\n",
      " '16.96 kmpl' '11.79 kmpl' '20.86 kmpl' '16.98 kmpl' '11.68 kmpl'\n",
      " '15.74 kmpl' '15.7 kmpl' '18.49 kmpl' '10.9 kmpl' '19.59 kmpl'\n",
      " '11.4 kmpl' '13.06 kmpl' '21.0 kmpl' '15.15 kmpl' '16.9 kmpl'\n",
      " '18.23 kmpl' '25.0 km/kg' '17.16 kmpl' '17.43 kmpl' '19.08 kmpl'\n",
      " '18.56 kmpl' '11.9 kmpl' '24.6 km/kg' '21.79 kmpl' '12.95 kmpl'\n",
      " '25.6 kmpl' '13.45 km/kg' '26.21 kmpl' '13.58 kmpl' '16.25 kmpl'\n",
      " '10.4 kmpl' '17.44 kmpl' '19.2 km/kg' '22.71 kmpl' '17.54 kmpl'\n",
      " '22.1 km/kg' '17.0 km/kg' '15.87 kmpl' '9.5 kmpl' '11.56 kmpl'\n",
      " '14.39 kmpl' '19.09 kmpl' '17.85 kmpl' '31.79 km/kg' '18.18 kmpl'\n",
      " '21.19 kmpl' '21.8 kmpl' '15.42 kmpl' '14.47 kmpl' '19.69 kmpl'\n",
      " '12.83 kmpl' '8.0 kmpl' '22.8 km/kg' '12.63 kmpl' '14.57 kmpl'\n",
      " '27.28 kmpl' '15.41 kmpl' '32.26 km/kg' '18.19 kmpl' '13.33 kmpl'\n",
      " '16.7 kmpl' '17.84 kmpl' '20.0 km/kg' '23.19 kmpl' '11.49 kmpl'\n",
      " '18.51 kmpl' '13.44 kmpl' '8.7 kmpl' '8.77 kmpl' '17.97 kmpl'\n",
      " '23.57 kmpl' '12.37 kmpl' '9.1 kmpl' '12.51 kmpl' '19.44 kmpl'\n",
      " '21.38 kmpl' '16.51 kmpl' '24.8 kmpl' '14.42 kmpl' '14.53 km/kg'\n",
      " '26.8 kmpl' '24.04 kmpl' '9.8 kmpl' '19.68 kmpl' '21.4 km/kg' '21.2 kmpl'\n",
      " '19.72 kmpl' '14.2 kmpl' '12.98 kmpl' '23.01 kmpl' '16.12 kmpl'\n",
      " '9.3 kmpl' '15.85 kmpl' nan '17.88 kmpl' '10.6 kmpl' '11.78 kmpl'\n",
      " '7.94 kmpl' '25.01 kmpl' '8.1 kmpl' '13.9 kmpl' '11.62 kmpl' '20.62 kmpl'\n",
      " '15.11 kmpl' '10.37 kmpl' '18.59 kmpl' '9.74 kmpl' '14.81 kmpl'\n",
      " '8.2 kmpl' '12.97 kmpl' '7.5 kmpl' '30.46 km/kg' '6.4 kmpl' '12.85 kmpl'\n",
      " '18.69 kmpl' '17.24 kmpl' '13.07 kmpl' '12.2 kmpl' '20.8 kmpl'\n",
      " '11.88 km/kg' '12.08 kmpl' '15.56 kmpl' '14.5 kmpl' '17.15 kmpl'] \n",
      "\n",
      " Engine ['998 CC' '1582 CC' '1199 CC' '1248 CC' '1968 CC' '814 CC' '1461 CC'\n",
      " '2755 CC' '1598 CC' '1462 CC' '1497 CC' '2179 CC' '2477 CC' '1498 CC'\n",
      " '2143 CC' '1995 CC' '1984 CC' '1197 CC' '2494 CC' '1798 CC' '2696 CC'\n",
      " '2698 CC' '1061 CC' '1198 CC' '2987 CC' '796 CC' '624 CC' '1999 CC'\n",
      " '1991 CC' '2694 CC' '1120 CC' '2498 CC' '799 CC' '2393 CC' '1399 CC'\n",
      " '1796 CC' '2148 CC' '1396 CC' '1950 CC' '4806 CC' '1998 CC' '1086 CC'\n",
      " '1193 CC' '2982 CC' '1493 CC' '2967 CC' '2993 CC' '1196 CC' '1799 CC'\n",
      " '2497 CC' '2354 CC' '1373 CC' '2996 CC' '1591 CC' '2894 CC' '5461 CC'\n",
      " '1595 CC' '936 CC' '1997 CC' nan '1896 CC' '1390 CC' '1364 CC' '2199 CC'\n",
      " '993 CC' '999 CC' '1405 CC' '2956 CC' '1794 CC' '995 CC' '2496 CC'\n",
      " '1599 CC' '2400 CC' '1495 CC' '2523 CC' '793 CC' '4134 CC' '1596 CC'\n",
      " '1395 CC' '2953 CC' '1586 CC' '2362 CC' '1496 CC' '1368 CC' '1298 CC'\n",
      " '1956 CC' '1299 CC' '3498 CC' '2835 CC' '1150 CC' '3198 CC' '1343 CC'\n",
      " '1499 CC' '1186 CC' '1590 CC' '2609 CC' '2499 CC' '2446 CC' '1978 CC'\n",
      " '2360 CC' '3436 CC' '2198 CC' '4367 CC' '2706 CC' '1422 CC' '2979 CC'\n",
      " '1969 CC' '1489 CC' '2489 CC' '1242 CC' '1388 CC' '1172 CC' '2495 CC'\n",
      " '1194 CC' '3200 CC' '1781 CC' '1341 CC' '2773 CC' '3597 CC' '1985 CC'\n",
      " '2147 CC' '1047 CC' '2999 CC' '2995 CC' '2997 CC' '1948 CC' '2359 CC'\n",
      " '4395 CC' '2349 CC' '2720 CC' '1468 CC' '3197 CC' '2487 CC' '1597 CC'\n",
      " '2771 CC' '72 CC' '4951 CC' '970 CC' '2925 CC' '2200 CC' '5000 CC'\n",
      " '2149 CC' '5998 CC' '2092 CC' '5204 CC' '2112 CC' '1797 CC' '2000 CC'\n",
      " '1795 CC' '3696 CC' '1389 CC'] \n",
      "\n",
      " Power ['58.16 bhp' '126.2 bhp' '88.7 bhp' '88.76 bhp' '140.8 bhp' '55.2 bhp'\n",
      " '63.1 bhp' '171.5 bhp' '103.6 bhp' '74 bhp' '103.25 bhp' '116.3 bhp'\n",
      " '187.7 bhp' '115 bhp' '175.56 bhp' '98.6 bhp' '83.8 bhp' '167.62 bhp'\n",
      " '190 bhp' '88.5 bhp' '177.01 bhp' '80 bhp' '67.1 bhp' '102 bhp'\n",
      " '108.45 bhp' '138.1 bhp' '184 bhp' '179.5 bhp' '103.5 bhp' '64 bhp'\n",
      " '82 bhp' '254.8 bhp' '73.9 bhp' '46.3 bhp' '37.5 bhp' '77 bhp' '82.9 bhp'\n",
      " '149.92 bhp' '138.03 bhp' '112.2 bhp' '163.7 bhp' '71 bhp' '105 bhp'\n",
      " '174.33 bhp' '75 bhp' '103.2 bhp' '53.3 bhp' '78.9 bhp' '147.6 bhp'\n",
      " '147.8 bhp' '68 bhp' '186 bhp' '170 bhp' '69 bhp' '140 bhp' '78 bhp'\n",
      " '194 bhp' '500 bhp' '108.5 bhp' '86.8 bhp' '187.74 bhp' nan '132 bhp'\n",
      " '86.7 bhp' '73.94 bhp' '117.3 bhp' '218 bhp' '168.5 bhp' '89.84 bhp'\n",
      " '110 bhp' '90 bhp' '82.85 bhp' '67 bhp' '241.4 bhp' '35 bhp' '270.9 bhp'\n",
      " '126.32 bhp' '73 bhp' '130 bhp' '100.6 bhp' '150 bhp' '75.94 bhp'\n",
      " '215 bhp' '107.3 bhp' '37.48 bhp' '120 bhp' '178 bhp' '152 bhp'\n",
      " '91.1 bhp' '85.80 bhp' '362.07 bhp' '121.3 bhp' '143 bhp' '81.80 bhp'\n",
      " '171 bhp' '76.8 bhp' '103.52 bhp' '444 bhp' '362.9 bhp' '67.06 bhp'\n",
      " '120.7 bhp' '258 bhp' '81.86 bhp' '112 bhp' '88.73 bhp' '57.6 bhp'\n",
      " '157.75 bhp' '102.5 bhp' '201.1 bhp' '83.1 bhp' '68.05 bhp' '88.50 bhp'\n",
      " '106 bhp' '100 bhp' '81.83 bhp' '85 bhp' '64.1 bhp' '177.5 bhp'\n",
      " '246.7 bhp' '177.46 bhp' '65 bhp' '67.04 bhp' '189.08 bhp' '99 bhp'\n",
      " '53.5 bhp' '194.3 bhp' '70 bhp' '183 bhp' '254.79 bhp' '66.1 bhp'\n",
      " '76 bhp' '60 bhp' '123.24 bhp' '47.3 bhp' '118 bhp' '88.8 bhp' '177 bhp'\n",
      " '136 bhp' '201.15 bhp' '93.7 bhp' '177.6 bhp' '313 bhp' '245 bhp'\n",
      " '125 bhp' '141 bhp' '227 bhp' '62 bhp' '141.1 bhp' '83.14 bhp' '192 bhp'\n",
      " '67.05 bhp' '47 bhp' '235 bhp' '37 bhp' '87.2 bhp' '203 bhp' '204 bhp'\n",
      " '246.74 bhp' '122 bhp' '282 bhp' '181 bhp' '224 bhp' '94 bhp' '367 bhp'\n",
      " '98.79 bhp' '62.1 bhp' '174.3 bhp' '114 bhp' '335.2 bhp' '169 bhp'\n",
      " '191.34 bhp' '108.49 bhp' '138.02 bhp' '156 bhp' '187.4 bhp' '66 bhp'\n",
      " '103.3 bhp' '164.7 bhp' '79.4 bhp' '198.5 bhp' '154 bhp' '73.8 bhp'\n",
      " '181.43 bhp' '85.8 bhp' '207.8 bhp' '108.4 bhp' '88 bhp' '63 bhp'\n",
      " '82.5 bhp' '364.9 bhp' '107.2 bhp' '113.98 bhp' '126.3 bhp' '185 bhp'\n",
      " '237.4 bhp' '99.6 bhp' '66.7 bhp' '160 bhp' '306 bhp' '98.59 bhp'\n",
      " '92.7 bhp' '147.51 bhp' '197.2 bhp' '167.6 bhp' '165 bhp' '110.4 bhp'\n",
      " '73.97 bhp' '147.9 bhp' '116.6 bhp' '148 bhp' '34.2 bhp' '155 bhp'\n",
      " '197 bhp' '108.62 bhp' '118.3 bhp' '38.4 bhp' '241.38 bhp' '153.86 bhp'\n",
      " '163.5 bhp' '226.6 bhp' '84.8 bhp' '53.64 bhp' '158.2 bhp' '69.01 bhp'\n",
      " '181.03 bhp' '58.2 bhp' '104.68 bhp' '126.24 bhp' '73.75 bhp' '158 bhp'\n",
      " '130.2 bhp' '57.5 bhp' '97.7 bhp' '121.4 bhp' '98.96 bhp' '174.5 bhp'\n",
      " '308 bhp' '121.36 bhp' '138 bhp' '265 bhp' '84 bhp' '321 bhp' '91.72 bhp'\n",
      " '65.3 bhp' '88.2 bhp' '93 bhp' '35.5 bhp' '86.79 bhp' '157.7 bhp'\n",
      " '40.3 bhp' '91.7 bhp' '180 bhp' '114.4 bhp' '158.8 bhp' '157.8 bhp'\n",
      " '123.7 bhp' '56.3 bhp' '189 bhp' '104 bhp' '210 bhp' '270.88 bhp'\n",
      " '142 bhp' '255 bhp' '236 bhp' '167.7 bhp' '148.31 bhp' '80.46 bhp'\n",
      " '138.08 bhp' '250 bhp' '74.9 bhp' '91.2 bhp' '102.57 bhp' '97.6 bhp'\n",
      " '102.53 bhp' '240 bhp' '254 bhp' '112.4 bhp' '73.74 bhp' '108.495 bhp'\n",
      " '116.9 bhp' '101 bhp' '320 bhp' '70.02 bhp' '261.49 bhp' '105.5 bhp'\n",
      " '550 bhp' '168.7 bhp' '55.23 bhp' '94.68 bhp' '152.88 bhp' '163.2 bhp'\n",
      " '203.2 bhp' '241 bhp' '95 bhp' '200 bhp' '271.23 bhp' '63.12 bhp'\n",
      " '85.7 bhp' '308.43 bhp' '118.6 bhp' '199.3 bhp' '83.83 bhp' '55 bhp'\n",
      " '83 bhp' '300 bhp' '201 bhp' '262.6 bhp' '163 bhp' '58.33 bhp'\n",
      " '86.76 bhp' '76.9 bhp' '174.57 bhp' '301.73 bhp' '68.1 bhp' '162 bhp'\n",
      " '394.3 bhp' '80.9 bhp' '147.5 bhp' '272 bhp' '340 bhp' '120.33 bhp'\n",
      " '82.4 bhp' '231.1 bhp' '335.3 bhp' '333 bhp' '198.25 bhp' '224.34 bhp'\n",
      " '402 bhp' '261 bhp' '61 bhp' '144 bhp' '71.01 bhp' '271.72 bhp' '134 bhp'\n",
      " '135.1 bhp' '92 bhp' '64.08 bhp' '261.5 bhp' '123.37 bhp' '175.67 bhp'\n",
      " '53 bhp' '110.5 bhp' '178.4 bhp' '193.1 bhp' '41 bhp' '395 bhp'\n",
      " '48.21 bhp' '450 bhp' '421 bhp' '89.75 bhp' '387.3 bhp' '130.3 bhp'\n",
      " '281.61 bhp' '52.8 bhp' '139.01 bhp' '208 bhp' '503 bhp' '168 bhp'\n",
      " '98.82 bhp' '139.07 bhp' '83.11 bhp' '74.93 bhp' '382 bhp' '74.96 bhp'\n",
      " '552 bhp' '127 bhp' '560 bhp' '116.4 bhp' '161.6 bhp' '488.1 bhp'\n",
      " '103 bhp' '181.04 bhp' '138.13 bhp' '78.8 bhp' '616 bhp' '170.30 bhp'\n",
      " '182.46 bhp' '245.41 bhp' '161 bhp' '120.69 bhp' '252 bhp' '147.4 bhp'\n",
      " '328.5 bhp' '98.63 bhp' '360 bhp' '241.6 bhp'] \n",
      "\n",
      " Seats [ 5.  7.  8.  4.  6.  2. nan 10.  9.  0.] \n",
      "\n",
      " New_Price [  5.51   16.06    8.61   11.27   53.14   10.25    9.47   21.     13.23\n",
      "   7.63   10.65   13.58    7.88  120.     32.01    8.54   15.05   49.49\n",
      "  47.87   67.1     4.36   10.57   24.01   21.085  18.865  12.33   11.12\n",
      "  10.15   23.64   21.77   18.64    8.23   11.39    7.45    4.78   11.33\n",
      "  19.34    7.65   49.14   11.81  136.     16.65    6.62   11.685   4.55\n",
      "   6.67   67.87   37.17   14.255   6.45    6.41   69.675  27.      5.13\n",
      "  54.43   37.9     9.51    9.96   37.03   14.44   33.51   11.11    4.53\n",
      "  95.04   13.49   55.07    9.6    11.3    14.22  128.     60.88   33.36\n",
      "   6.095  63.805   7.39   42.12   69.47   86.97    8.78   12.74   25.83\n",
      "  10.52   11.98   44.8     8.525  33.58    9.12    5.29   44.28   20.74\n",
      "  11.74   48.18   27.825  25.52   14.07   95.13    9.075  69.59    8.34\n",
      " 101.96    8.85   25.4    16.67   41.94    5.87   79.43  104.     58.67\n",
      "  28.37    4.48   72.64   36.15   44.59   12.     14.65   53.72   42.89\n",
      "  33.91   12.51   45.67    9.74   95.38   60.59    8.8     4.925  11.28\n",
      "  11.48   33.21   11.26   43.65   62.07   35.29  100.     34.63   40.62\n",
      "   4.74   14.84   12.34   15.38   19.21   22.95   11.15   10.32   11.01\n",
      "  28.05   59.77   15.86   19.43   11.67   16.95   15.45    7.87    4.7\n",
      "  15.02   12.56   26.45   10.34    7.46   11.85   10.41    5.57   42.48\n",
      "  16.04    9.1    13.74    5.72   21.33   78.76    4.29   10.04    8.56\n",
      "   6.14    7.3     4.37    4.98   15.29   24.26   75.12    9.53   34.6\n",
      "   9.295  52.26   43.07   70.43    4.8    12.12   19.37   12.14   36.69\n",
      "  23.68   55.61   14.1    13.26   11.2     9.46   12.79   15.57   19.86\n",
      "   6.59  158.      9.26    6.54   26.56   11.      7.55    7.82    6.32\n",
      "   7.15   15.14   15.72   54.7    22.87    6.74   33.09   23.25   19.27\n",
      "  52.77    7.92    7.85   15.55   32.45    4.83    7.13   71.82   50.97\n",
      "  10.73    9.5    52.46    6.07    5.54    4.33    8.63    6.68    7.98\n",
      "  24.82   22.86   11.06    9.45   19.39   18.35    9.19    8.09  139.\n",
      "  11.52   10.06   15.34    9.79   35.      8.68   66.39   36.45   91.38\n",
      "  53.41    4.59    8.6     9.44   48.64   11.69    6.33    8.1     6.4\n",
      "   7.59    7.      7.43   22.43   24.02   21.69   43.31    4.71  102.\n",
      "   6.71   34.45    8.58   12.67   11.89   10.48   13.59   11.02    8.94\n",
      "  21.38   12.88    8.27    7.37    7.33   23.06  140.      5.58   22.46\n",
      "   7.69    9.4     6.08    8.36  106.     71.15    6.82    8.12    9.78\n",
      "   7.36   38.11   11.75    8.44    6.63  127.     39.6    10.91   25.75\n",
      "   5.61    8.05    8.82   17.38    5.69   37.51    5.88   63.71   11.47\n",
      "  37.46   11.37   92.5    15.06   39.57   13.7    11.16   10.17    8.17\n",
      "   9.58    9.14   64.14   16.36   37.38   22.74   70.55  113.     45.36\n",
      "  10.13   11.77    4.05   26.95    4.82    7.17    9.09    4.09    6.83\n",
      "   5.04   43.81    5.12    5.71    8.16    9.72   10.3     4.69    5.42\n",
      "  91.23    7.14    7.94    4.61    5.3     7.97   59.38   12.22   33.68\n",
      "   6.96    7.96   20.8     6.78   19.91    8.93   11.66    7.35    6.99\n",
      "  23.89    7.27    8.84   22.37    6.295  12.02    3.95   48.79    4.66\n",
      "  11.29    5.35    6.23   47.16   41.98    7.91    5.36   20.97   34.89\n",
      "  16.4   166.     14.67   12.57    9.48    8.95   23.19    8.24    8.71\n",
      "  44.75   87.57    8.57    7.56    7.83    6.     13.76   14.11   12.47\n",
      "   6.51    7.52   15.68   20.48   15.17    8.13    8.79   14.72   25.54\n",
      "  16.84    8.28   23.94   69.37    9.04   10.97   21.72    4.9    10.1\n",
      "  12.53   20.87    5.9    64.57   17.21    6.56   47.2    10.14  160.\n",
      "   5.44   26.55    8.26    4.5    56.97   11.19   13.33    8.75   21.1\n",
      "  10.28   11.56   27.07  171.     10.81    8.55   22.66    4.24   41.02\n",
      "  17.    230.     10.89    7.54   30.19    5.56    4.43   12.9    19.18\n",
      "  10.99   12.23   11.63   12.27    3.91   50.4     4.04   11.96   11.44\n",
      "  24.63   50.26   13.72   23.14    6.29    8.18    5.635   7.48   83.92\n",
      "  36.94   13.6    10.7     4.87   92.79    5.8    62.11   10.83   11.05\n",
      "   9.99   14.32    6.21   74.49    8.03   32.54   11.71    3.98   11.13\n",
      "  11.58   10.63   12.68   17.7    14.23    9.62    8.91   10.26    6.94\n",
      "  15.59   78.31    9.56   64.76   99.92   69.22   18.45    9.89    8.73\n",
      "   8.69   42.4    23.37   79.78   16.6     4.93   14.2    10.42    9.55\n",
      "   5.45    8.38    5.95   15.36   10.94    9.83    7.67    9.97   67.67\n",
      "  53.68    6.05    7.01    6.8    25.27   57.3     5.68    9.36   38.72\n",
      "   7.7     6.43    5.67    3.96   39.27  375.     15.94   13.4    11.88\n",
      "  21.36    5.92    6.42    8.99   12.44    5.77   15.01   40.73    4.45\n",
      "  20.46   39.22    7.77   11.91    9.93    9.27   14.95    5.78    6.3\n",
      "   5.74   52.96   15.93    3.99    6.15   31.93   15.88    7.19   56.98\n",
      "  14.13   25.04    8.92    5.01   19.01   35.16    6.24    9.42    4.56\n",
      "  29.9     7.12    9.94    6.44   16.82   63.47    6.7    34.1     5.31\n",
      "  15.24   36.5    10.86   59.12    5.79   10.55   15.73   27.56    4.75\n",
      "   7.08   77.92   14.86   26.14   32.41   12.05    6.38    5.89    6.55\n",
      "   7.79   18.32   16.64    9.54   23.29   13.08    4.02   66.71   15.11\n",
      "  49.12   10.51    8.65   10.36   20.69    4.25   92.01    7.9     7.21\n",
      "  16.94    5.27   11.14   20.01   32.62   11.59    6.46   19.72   12.46\n",
      "   9.11    5.53    7.06   18.16 ] \n",
      "\n",
      " Price [ 1.75 12.5   4.5  ... 17.56  7.43   nan]\n"
     ]
    }
   ],
   "source": [
    "print('Name', cars['Name'].unique(),  '\\n' + '\\n',\n",
    "'Location', cars['Location'].unique(),  '\\n' + '\\n',\n",
    "'Year', cars['Year'].unique(),  '\\n' + '\\n',\n",
    "'Kilometers_Driven', cars['Kilometers_Driven'].unique(),  '\\n' + '\\n',\n",
    "'Fuel_Type', cars['Fuel_Type'].unique(),  '\\n' + '\\n',\n",
    "'Transmission', cars['Transmission'].unique(),  '\\n' + '\\n',\n",
    "'Owner_Type', cars['Owner_Type'].unique(),  '\\n' + '\\n',\n",
    "'Mileage', cars['Mileage'].unique(),  '\\n' + '\\n',\n",
    "'Engine', cars['Engine'].unique(),  '\\n' + '\\n',\n",
    "'Power', cars['Power'].unique(),  '\\n' + '\\n',\n",
    "'Seats', cars['Seats'].unique(),  '\\n' + '\\n',\n",
    "'New_Price', cars['New_Price'].unique(),  '\\n' + '\\n',\n",
    "'Price', cars['Price'].unique())\n",
    "\n",
    "    \n"
   ]
  },
  {
   "cell_type": "markdown",
   "metadata": {},
   "source": [
    "The mileage column contains two units, some are in kmpl, while others have km/kg. We have to convert all to a single unit\n",
    "\n"
   ]
  },
  {
   "cell_type": "markdown",
   "metadata": {},
   "source": [
    "Before we fix this let us first do some feature engineering by splitting the name column to car_brand and model columns"
   ]
  },
  {
   "cell_type": "code",
   "execution_count": 1972,
   "metadata": {},
   "outputs": [],
   "source": [
    "cars[['Car_Brand','Model']] = cars.Name.str.split(n=1,expand=True) #splitting the Brand and the car model"
   ]
  },
  {
   "cell_type": "markdown",
   "metadata": {},
   "source": [
    "Model names are unique to the Car Brands, so let us check for the unique values"
   ]
  },
  {
   "cell_type": "code",
   "execution_count": 1973,
   "metadata": {},
   "outputs": [
    {
     "data": {
      "text/plain": [
       "array(['Maruti', 'Hyundai', 'Honda', 'Audi', 'Nissan', 'Toyota',\n",
       "       'Volkswagen', 'Tata', 'Land', 'Mitsubishi', 'Renault',\n",
       "       'Mercedes-Benz', 'BMW', 'Mahindra', 'Ford', 'Porsche', 'Datsun',\n",
       "       'Jaguar', 'Volvo', 'Chevrolet', 'Skoda', 'Mini', 'Fiat', 'Jeep',\n",
       "       'Smart', 'Ambassador', 'Isuzu', 'ISUZU', 'Force', 'Bentley',\n",
       "       'Lamborghini', 'Hindustan', 'OpelCorsa'], dtype=object)"
      ]
     },
     "execution_count": 1973,
     "metadata": {},
     "output_type": "execute_result"
    }
   ],
   "source": [
    "#check the unique brands \n",
    "Brand_name=cars['Car_Brand'].unique()\n",
    "Model=cars['Model'].unique() \n",
    "\n",
    "Brand_name\n"
   ]
  },
  {
   "cell_type": "markdown",
   "metadata": {},
   "source": [
    "We see that Land Rover is mentioned as Land and the Brand Isuzu is mentioned twice, one in capital letters. So we have to fix this"
   ]
  },
  {
   "cell_type": "code",
   "execution_count": 1974,
   "metadata": {},
   "outputs": [
    {
     "data": {
      "text/plain": [
       "Maruti           1444\n",
       "Hyundai          1340\n",
       "Honda             743\n",
       "Toyota            507\n",
       "Mercedes-Benz     380\n",
       "Volkswagen        374\n",
       "Ford              351\n",
       "Mahindra          331\n",
       "BMW               312\n",
       "Audi              285\n",
       "Tata              228\n",
       "Skoda             202\n",
       "Renault           170\n",
       "Chevrolet         151\n",
       "Nissan            117\n",
       "Land_Rover         67\n",
       "Jaguar             48\n",
       "Fiat               38\n",
       "Mitsubishi         36\n",
       "Mini               31\n",
       "Volvo              28\n",
       "Porsche            19\n",
       "Jeep               19\n",
       "Datsun             17\n",
       "Isuzu               5\n",
       "Force               3\n",
       "Bentley             2\n",
       "Smart               1\n",
       "Ambassador          1\n",
       "Lamborghini         1\n",
       "Hindustan           1\n",
       "OpelCorsa           1\n",
       "Name: Car_Brand, dtype: int64"
      ]
     },
     "execution_count": 1974,
     "metadata": {},
     "output_type": "execute_result"
    }
   ],
   "source": [
    "#correcting the brands\n",
    "cars['Car_Brand']=cars['Car_Brand'].replace('Land','Land_Rover') \n",
    "cars['Car_Brand']=cars['Car_Brand'].replace('ISUZU','Isuzu')  \n",
    "cars['Car_Brand'].value_counts()"
   ]
  },
  {
   "cell_type": "markdown",
   "metadata": {},
   "source": [
    "Observations:\n",
    "\n",
    "Maruti and Hyundai are the most popular car brands\n",
    "\n",
    "Honda and Toyota are the next most popular brands"
   ]
  },
  {
   "cell_type": "code",
   "execution_count": 1975,
   "metadata": {},
   "outputs": [],
   "source": [
    "#create a fucntion to drop unwanted columns\n",
    "def df_drop(data,columns):\n",
    "    data.drop(columns,axis = 1,inplace = True)\n",
    "    "
   ]
  },
  {
   "cell_type": "code",
   "execution_count": 1976,
   "metadata": {},
   "outputs": [],
   "source": [
    "#calling the function\n",
    "for columns in ['S.No.', 'Name']:\n",
    "    df_drop(cars,columns)#applying above function to the column list"
   ]
  },
  {
   "cell_type": "markdown",
   "metadata": {},
   "source": [
    "We had to drop the name and serial no. columns as they dont have any role to play"
   ]
  },
  {
   "cell_type": "code",
   "execution_count": 1977,
   "metadata": {},
   "outputs": [
    {
     "data": {
      "text/html": [
       "<div>\n",
       "<style scoped>\n",
       "    .dataframe tbody tr th:only-of-type {\n",
       "        vertical-align: middle;\n",
       "    }\n",
       "\n",
       "    .dataframe tbody tr th {\n",
       "        vertical-align: top;\n",
       "    }\n",
       "\n",
       "    .dataframe thead th {\n",
       "        text-align: right;\n",
       "    }\n",
       "</style>\n",
       "<table border=\"1\" class=\"dataframe\">\n",
       "  <thead>\n",
       "    <tr style=\"text-align: right;\">\n",
       "      <th></th>\n",
       "      <th>Location</th>\n",
       "      <th>Year</th>\n",
       "      <th>Kilometers_Driven</th>\n",
       "      <th>Fuel_Type</th>\n",
       "      <th>Transmission</th>\n",
       "      <th>Owner_Type</th>\n",
       "      <th>Mileage</th>\n",
       "      <th>Engine</th>\n",
       "      <th>Power</th>\n",
       "      <th>Seats</th>\n",
       "      <th>New_Price</th>\n",
       "      <th>Price</th>\n",
       "      <th>Car_Brand</th>\n",
       "      <th>Model</th>\n",
       "    </tr>\n",
       "  </thead>\n",
       "  <tbody>\n",
       "    <tr>\n",
       "      <th>1087</th>\n",
       "      <td>Kolkata</td>\n",
       "      <td>2015</td>\n",
       "      <td>120000</td>\n",
       "      <td>Petrol</td>\n",
       "      <td>Manual</td>\n",
       "      <td>First</td>\n",
       "      <td>18.6 kmpl</td>\n",
       "      <td>1199 CC</td>\n",
       "      <td>76.8 bhp</td>\n",
       "      <td>5.0</td>\n",
       "      <td>11.30</td>\n",
       "      <td>2.50</td>\n",
       "      <td>Chevrolet</td>\n",
       "      <td>Beat LS</td>\n",
       "    </tr>\n",
       "    <tr>\n",
       "      <th>465</th>\n",
       "      <td>Kolkata</td>\n",
       "      <td>2017</td>\n",
       "      <td>14000</td>\n",
       "      <td>Diesel</td>\n",
       "      <td>Manual</td>\n",
       "      <td>First</td>\n",
       "      <td>24.0 kmpl</td>\n",
       "      <td>1120 CC</td>\n",
       "      <td>70 bhp</td>\n",
       "      <td>5.0</td>\n",
       "      <td>7.45</td>\n",
       "      <td>4.60</td>\n",
       "      <td>Hyundai</td>\n",
       "      <td>Grand i10 CRDi Magna</td>\n",
       "    </tr>\n",
       "    <tr>\n",
       "      <th>2982</th>\n",
       "      <td>Coimbatore</td>\n",
       "      <td>2018</td>\n",
       "      <td>32807</td>\n",
       "      <td>Petrol</td>\n",
       "      <td>Automatic</td>\n",
       "      <td>First</td>\n",
       "      <td>13.0 kmpl</td>\n",
       "      <td>1591 CC</td>\n",
       "      <td>121.3 bhp</td>\n",
       "      <td>5.0</td>\n",
       "      <td>16.06</td>\n",
       "      <td>14.76</td>\n",
       "      <td>Hyundai</td>\n",
       "      <td>Creta 1.6 SX Plus Petrol Automatic</td>\n",
       "    </tr>\n",
       "    <tr>\n",
       "      <th>1902</th>\n",
       "      <td>Ahmedabad</td>\n",
       "      <td>2017</td>\n",
       "      <td>15000</td>\n",
       "      <td>Diesel</td>\n",
       "      <td>Automatic</td>\n",
       "      <td>First</td>\n",
       "      <td>12.9 kmpl</td>\n",
       "      <td>2755 CC</td>\n",
       "      <td>174.5 bhp</td>\n",
       "      <td>7.0</td>\n",
       "      <td>34.45</td>\n",
       "      <td>30.00</td>\n",
       "      <td>Toyota</td>\n",
       "      <td>Fortuner 2.8 2WD AT</td>\n",
       "    </tr>\n",
       "    <tr>\n",
       "      <th>6752</th>\n",
       "      <td>Mumbai</td>\n",
       "      <td>2017</td>\n",
       "      <td>29500</td>\n",
       "      <td>Diesel</td>\n",
       "      <td>Manual</td>\n",
       "      <td>First</td>\n",
       "      <td>23.65 kmpl</td>\n",
       "      <td>1248 CC</td>\n",
       "      <td>88.5 bhp</td>\n",
       "      <td>5.0</td>\n",
       "      <td>7.88</td>\n",
       "      <td>NaN</td>\n",
       "      <td>Maruti</td>\n",
       "      <td>SX4 S Cross DDiS 200 Zeta</td>\n",
       "    </tr>\n",
       "  </tbody>\n",
       "</table>\n",
       "</div>"
      ],
      "text/plain": [
       "        Location  Year  Kilometers_Driven Fuel_Type Transmission Owner_Type  \\\n",
       "1087     Kolkata  2015             120000    Petrol       Manual      First   \n",
       "465      Kolkata  2017              14000    Diesel       Manual      First   \n",
       "2982  Coimbatore  2018              32807    Petrol    Automatic      First   \n",
       "1902   Ahmedabad  2017              15000    Diesel    Automatic      First   \n",
       "6752      Mumbai  2017              29500    Diesel       Manual      First   \n",
       "\n",
       "         Mileage   Engine      Power  Seats  New_Price  Price  Car_Brand  \\\n",
       "1087   18.6 kmpl  1199 CC   76.8 bhp    5.0      11.30   2.50  Chevrolet   \n",
       "465    24.0 kmpl  1120 CC     70 bhp    5.0       7.45   4.60    Hyundai   \n",
       "2982   13.0 kmpl  1591 CC  121.3 bhp    5.0      16.06  14.76    Hyundai   \n",
       "1902   12.9 kmpl  2755 CC  174.5 bhp    7.0      34.45  30.00     Toyota   \n",
       "6752  23.65 kmpl  1248 CC   88.5 bhp    5.0       7.88    NaN     Maruti   \n",
       "\n",
       "                                   Model  \n",
       "1087                             Beat LS  \n",
       "465                 Grand i10 CRDi Magna  \n",
       "2982  Creta 1.6 SX Plus Petrol Automatic  \n",
       "1902                 Fortuner 2.8 2WD AT  \n",
       "6752           SX4 S Cross DDiS 200 Zeta  "
      ]
     },
     "execution_count": 1977,
     "metadata": {},
     "output_type": "execute_result"
    }
   ],
   "source": [
    "#checking\n",
    "cars.sample(5)"
   ]
  },
  {
   "cell_type": "markdown",
   "metadata": {},
   "source": [
    "#### Fixing the Mileage units"
   ]
  },
  {
   "cell_type": "code",
   "execution_count": 1978,
   "metadata": {},
   "outputs": [
    {
     "name": "stdout",
     "output_type": "stream",
     "text": [
      "The number of rows with Km/Kg : 74 \n",
      "The number of rows with Kmpl : 7177 \n"
     ]
    }
   ],
   "source": [
    "#check number of rows with each unit\n",
    "kmkg = 0\n",
    "kmpl = 0\n",
    "for i in cars.Mileage:\n",
    "    if str(i).endswith(\"km/kg\"):\n",
    "        kmkg+=1\n",
    "    elif str(i).endswith(\"kmpl\"):\n",
    "        kmpl+=1\n",
    "print('The number of rows with Km/Kg : {} '.format(kmkg))\n",
    "print('The number of rows with Kmpl : {} '.format(kmpl))"
   ]
  },
  {
   "cell_type": "markdown",
   "metadata": {},
   "source": [
    "There are 74 rows with unit as km/kg and 7177 rows as kmpl"
   ]
  },
  {
   "cell_type": "markdown",
   "metadata": {},
   "source": [
    "Converting kmkg to kmpl\n",
    "\n",
    "1 liter of mileage = 0.737kg(https://coolconversion.com/density-volume-mass/--1--liter--of--petrol--in--kg)\n"
   ]
  },
  {
   "cell_type": "markdown",
   "metadata": {},
   "source": [
    "Then 1kg = 1.4litres"
   ]
  },
  {
   "cell_type": "markdown",
   "metadata": {},
   "source": [
    "Writing a function that will help split the string from the numerical values in the columns\n",
    "\n",
    "This function will also drop the string and convert to float datatype.\n",
    "\n",
    "The function would also convert missing values to np.nan\n",
    "\n",
    "Also this function would convert km/kg to kmpl"
   ]
  },
  {
   "cell_type": "code",
   "execution_count": 1979,
   "metadata": {},
   "outputs": [],
   "source": [
    "# This function converts CNG mileage values to kmpl, removes units, and casts to float\n",
    "def con_mileage(mileage):\n",
    "    if isinstance(mileage, str):\n",
    "        if mileage.endswith('g'):\n",
    "            con = 1.4\n",
    "            return float(mileage.replace('km/kg', '').strip()) * con\n",
    "        else:\n",
    "            con = 1\n",
    "            return float(mileage.replace('kmpl', '').strip()) * con\n",
    "    else:\n",
    "        return np.nan\n",
    "\n",
    "cars['Mileage'] = cars['Mileage'].apply(con_mileage)"
   ]
  },
  {
   "cell_type": "code",
   "execution_count": 1980,
   "metadata": {},
   "outputs": [],
   "source": [
    "#This function removes 'CC' units from Engine variable and casts as float\n",
    "def eng_clean(engine):\n",
    "    if isinstance(engine, str):\n",
    "        return float(engine.replace('CC', '').strip())\n",
    "    else:\n",
    "        return np.nan\n",
    "cars['Engine'] = cars['Engine'].apply(eng_clean)"
   ]
  },
  {
   "cell_type": "code",
   "execution_count": 1981,
   "metadata": {},
   "outputs": [],
   "source": [
    "#This function removes 'bhp' units from Power variable and casts to float\n",
    "def pow_clean(power):\n",
    "    if isinstance(power, str):\n",
    "        if power.replace('bhp', '').strip() != 'null':\n",
    "            return float(power.replace('bhp', '').strip())\n",
    "        elif power.replace('bhp', '').strip() == 'null':\n",
    "            return np.nan\n",
    "    else:\n",
    "        return np.nan\n",
    "cars['Power'] = cars['Power'].apply(pow_clean)"
   ]
  },
  {
   "cell_type": "code",
   "execution_count": 1982,
   "metadata": {},
   "outputs": [
    {
     "data": {
      "text/html": [
       "<div>\n",
       "<style scoped>\n",
       "    .dataframe tbody tr th:only-of-type {\n",
       "        vertical-align: middle;\n",
       "    }\n",
       "\n",
       "    .dataframe tbody tr th {\n",
       "        vertical-align: top;\n",
       "    }\n",
       "\n",
       "    .dataframe thead th {\n",
       "        text-align: right;\n",
       "    }\n",
       "</style>\n",
       "<table border=\"1\" class=\"dataframe\">\n",
       "  <thead>\n",
       "    <tr style=\"text-align: right;\">\n",
       "      <th></th>\n",
       "      <th>Location</th>\n",
       "      <th>Year</th>\n",
       "      <th>Kilometers_Driven</th>\n",
       "      <th>Fuel_Type</th>\n",
       "      <th>Transmission</th>\n",
       "      <th>Owner_Type</th>\n",
       "      <th>Mileage</th>\n",
       "      <th>Engine</th>\n",
       "      <th>Power</th>\n",
       "      <th>Seats</th>\n",
       "      <th>New_Price</th>\n",
       "      <th>Price</th>\n",
       "      <th>Car_Brand</th>\n",
       "      <th>Model</th>\n",
       "    </tr>\n",
       "  </thead>\n",
       "  <tbody>\n",
       "    <tr>\n",
       "      <th>4446</th>\n",
       "      <td>Chennai</td>\n",
       "      <td>2016</td>\n",
       "      <td>50000</td>\n",
       "      <td>Electric</td>\n",
       "      <td>Automatic</td>\n",
       "      <td>First</td>\n",
       "      <td>NaN</td>\n",
       "      <td>72.0</td>\n",
       "      <td>41.0</td>\n",
       "      <td>5.0</td>\n",
       "      <td>13.58</td>\n",
       "      <td>13.00</td>\n",
       "      <td>Mahindra</td>\n",
       "      <td>E Verito D4</td>\n",
       "    </tr>\n",
       "    <tr>\n",
       "      <th>4904</th>\n",
       "      <td>Mumbai</td>\n",
       "      <td>2011</td>\n",
       "      <td>44000</td>\n",
       "      <td>Electric</td>\n",
       "      <td>Automatic</td>\n",
       "      <td>First</td>\n",
       "      <td>NaN</td>\n",
       "      <td>1798.0</td>\n",
       "      <td>73.0</td>\n",
       "      <td>5.0</td>\n",
       "      <td>24.01</td>\n",
       "      <td>12.75</td>\n",
       "      <td>Toyota</td>\n",
       "      <td>Prius 2009-2016 Z4</td>\n",
       "    </tr>\n",
       "  </tbody>\n",
       "</table>\n",
       "</div>"
      ],
      "text/plain": [
       "     Location  Year  Kilometers_Driven Fuel_Type Transmission Owner_Type  \\\n",
       "4446  Chennai  2016              50000  Electric    Automatic      First   \n",
       "4904   Mumbai  2011              44000  Electric    Automatic      First   \n",
       "\n",
       "      Mileage  Engine  Power  Seats  New_Price  Price Car_Brand  \\\n",
       "4446      NaN    72.0   41.0    5.0      13.58  13.00  Mahindra   \n",
       "4904      NaN  1798.0   73.0    5.0      24.01  12.75    Toyota   \n",
       "\n",
       "                   Model  \n",
       "4446         E Verito D4  \n",
       "4904  Prius 2009-2016 Z4  "
      ]
     },
     "execution_count": 1982,
     "metadata": {},
     "output_type": "execute_result"
    }
   ],
   "source": [
    "cars[cars.Mileage.isnull()]"
   ]
  },
  {
   "cell_type": "code",
   "execution_count": 1983,
   "metadata": {},
   "outputs": [
    {
     "data": {
      "text/html": [
       "<div>\n",
       "<style scoped>\n",
       "    .dataframe tbody tr th:only-of-type {\n",
       "        vertical-align: middle;\n",
       "    }\n",
       "\n",
       "    .dataframe tbody tr th {\n",
       "        vertical-align: top;\n",
       "    }\n",
       "\n",
       "    .dataframe thead th {\n",
       "        text-align: right;\n",
       "    }\n",
       "</style>\n",
       "<table border=\"1\" class=\"dataframe\">\n",
       "  <thead>\n",
       "    <tr style=\"text-align: right;\">\n",
       "      <th></th>\n",
       "      <th>Location</th>\n",
       "      <th>Year</th>\n",
       "      <th>Kilometers_Driven</th>\n",
       "      <th>Fuel_Type</th>\n",
       "      <th>Transmission</th>\n",
       "      <th>Owner_Type</th>\n",
       "      <th>Mileage</th>\n",
       "      <th>Engine</th>\n",
       "      <th>Power</th>\n",
       "      <th>Seats</th>\n",
       "      <th>New_Price</th>\n",
       "      <th>Price</th>\n",
       "      <th>Car_Brand</th>\n",
       "      <th>Model</th>\n",
       "    </tr>\n",
       "  </thead>\n",
       "  <tbody>\n",
       "    <tr>\n",
       "      <th>6083</th>\n",
       "      <td>Mumbai</td>\n",
       "      <td>2018</td>\n",
       "      <td>7000</td>\n",
       "      <td>Petrol</td>\n",
       "      <td>Manual</td>\n",
       "      <td>First</td>\n",
       "      <td>23.00</td>\n",
       "      <td>998.0</td>\n",
       "      <td>67.0</td>\n",
       "      <td>5.0</td>\n",
       "      <td>5.78</td>\n",
       "      <td>NaN</td>\n",
       "      <td>Maruti</td>\n",
       "      <td>Celerio X VXI Option</td>\n",
       "    </tr>\n",
       "    <tr>\n",
       "      <th>1751</th>\n",
       "      <td>Chennai</td>\n",
       "      <td>2006</td>\n",
       "      <td>110000</td>\n",
       "      <td>Petrol</td>\n",
       "      <td>Manual</td>\n",
       "      <td>First</td>\n",
       "      <td>13.50</td>\n",
       "      <td>1799.0</td>\n",
       "      <td>130.0</td>\n",
       "      <td>5.0</td>\n",
       "      <td>13.58</td>\n",
       "      <td>2.65</td>\n",
       "      <td>Honda</td>\n",
       "      <td>Civic 2006-2010 1.8 S MT</td>\n",
       "    </tr>\n",
       "    <tr>\n",
       "      <th>5553</th>\n",
       "      <td>Pune</td>\n",
       "      <td>2012</td>\n",
       "      <td>116000</td>\n",
       "      <td>Diesel</td>\n",
       "      <td>Manual</td>\n",
       "      <td>First</td>\n",
       "      <td>10.50</td>\n",
       "      <td>2835.0</td>\n",
       "      <td>107.2</td>\n",
       "      <td>6.0</td>\n",
       "      <td>33.21</td>\n",
       "      <td>9.95</td>\n",
       "      <td>Mitsubishi</td>\n",
       "      <td>Pajero 2.8 SFX 7Str</td>\n",
       "    </tr>\n",
       "    <tr>\n",
       "      <th>1181</th>\n",
       "      <td>Ahmedabad</td>\n",
       "      <td>2013</td>\n",
       "      <td>119000</td>\n",
       "      <td>Diesel</td>\n",
       "      <td>Manual</td>\n",
       "      <td>First</td>\n",
       "      <td>12.99</td>\n",
       "      <td>2494.0</td>\n",
       "      <td>100.0</td>\n",
       "      <td>8.0</td>\n",
       "      <td>24.01</td>\n",
       "      <td>8.00</td>\n",
       "      <td>Toyota</td>\n",
       "      <td>Innova 2.5 VX (Diesel) 8 Seater BS IV</td>\n",
       "    </tr>\n",
       "    <tr>\n",
       "      <th>3364</th>\n",
       "      <td>Ahmedabad</td>\n",
       "      <td>2014</td>\n",
       "      <td>51000</td>\n",
       "      <td>Petrol</td>\n",
       "      <td>Manual</td>\n",
       "      <td>First</td>\n",
       "      <td>20.36</td>\n",
       "      <td>1197.0</td>\n",
       "      <td>78.9</td>\n",
       "      <td>5.0</td>\n",
       "      <td>10.25</td>\n",
       "      <td>3.75</td>\n",
       "      <td>Hyundai</td>\n",
       "      <td>i10 Magna</td>\n",
       "    </tr>\n",
       "  </tbody>\n",
       "</table>\n",
       "</div>"
      ],
      "text/plain": [
       "       Location  Year  Kilometers_Driven Fuel_Type Transmission Owner_Type  \\\n",
       "6083     Mumbai  2018               7000    Petrol       Manual      First   \n",
       "1751    Chennai  2006             110000    Petrol       Manual      First   \n",
       "5553       Pune  2012             116000    Diesel       Manual      First   \n",
       "1181  Ahmedabad  2013             119000    Diesel       Manual      First   \n",
       "3364  Ahmedabad  2014              51000    Petrol       Manual      First   \n",
       "\n",
       "      Mileage  Engine  Power  Seats  New_Price  Price   Car_Brand  \\\n",
       "6083    23.00   998.0   67.0    5.0       5.78    NaN      Maruti   \n",
       "1751    13.50  1799.0  130.0    5.0      13.58   2.65       Honda   \n",
       "5553    10.50  2835.0  107.2    6.0      33.21   9.95  Mitsubishi   \n",
       "1181    12.99  2494.0  100.0    8.0      24.01   8.00      Toyota   \n",
       "3364    20.36  1197.0   78.9    5.0      10.25   3.75     Hyundai   \n",
       "\n",
       "                                      Model  \n",
       "6083                   Celerio X VXI Option  \n",
       "1751               Civic 2006-2010 1.8 S MT  \n",
       "5553                    Pajero 2.8 SFX 7Str  \n",
       "1181  Innova 2.5 VX (Diesel) 8 Seater BS IV  \n",
       "3364                              i10 Magna  "
      ]
     },
     "execution_count": 1983,
     "metadata": {},
     "output_type": "execute_result"
    }
   ],
   "source": [
    "#checking\n",
    "cars.sample(5)"
   ]
  },
  {
   "cell_type": "code",
   "execution_count": 1984,
   "metadata": {},
   "outputs": [
    {
     "data": {
      "text/plain": [
       "Location              object\n",
       "Year                   int64\n",
       "Kilometers_Driven      int64\n",
       "Fuel_Type             object\n",
       "Transmission          object\n",
       "Owner_Type            object\n",
       "Mileage              float64\n",
       "Engine               float64\n",
       "Power                float64\n",
       "Seats                float64\n",
       "New_Price            float64\n",
       "Price                float64\n",
       "Car_Brand             object\n",
       "Model                 object\n",
       "dtype: object"
      ]
     },
     "execution_count": 1984,
     "metadata": {},
     "output_type": "execute_result"
    }
   ],
   "source": [
    "#checking the data types\n",
    "cars.dtypes"
   ]
  },
  {
   "cell_type": "markdown",
   "metadata": {},
   "source": [
    "### Cleaning the NAN Values"
   ]
  },
  {
   "cell_type": "code",
   "execution_count": 1985,
   "metadata": {},
   "outputs": [],
   "source": [
    "#function to clean the NANs\n",
    "def clean_data(data):\n",
    "    data['Engine']=data['Engine'].fillna(data['Engine'].mean())\n",
    "    data['Power']=data['Power'].fillna(data['Power'].mean())\n",
    "    data['Seats']=data['Seats'].fillna(data['Seats'].mean())\n",
    "    data['Mileage']=data['Mileage'].fillna(data['Mileage'].mean())\n",
    "    data['Price']=data['Price'].fillna(data['Price'].mean())\n",
    "    return data.isna().sum()"
   ]
  },
  {
   "cell_type": "code",
   "execution_count": 1986,
   "metadata": {},
   "outputs": [
    {
     "data": {
      "text/plain": [
       "Location             0\n",
       "Year                 0\n",
       "Kilometers_Driven    0\n",
       "Fuel_Type            0\n",
       "Transmission         0\n",
       "Owner_Type           0\n",
       "Mileage              0\n",
       "Engine               0\n",
       "Power                0\n",
       "Seats                0\n",
       "New_Price            0\n",
       "Price                0\n",
       "Car_Brand            0\n",
       "Model                0\n",
       "dtype: int64"
      ]
     },
     "execution_count": 1986,
     "metadata": {},
     "output_type": "execute_result"
    }
   ],
   "source": [
    "clean_data(cars)"
   ]
  },
  {
   "cell_type": "markdown",
   "metadata": {},
   "source": [
    "We cleaned the nan values in all the columns using the mean(average)"
   ]
  },
  {
   "cell_type": "code",
   "execution_count": 1987,
   "metadata": {},
   "outputs": [
    {
     "data": {
      "image/png": "[encoded data removed]",
      "text/plain": [
       "<Figure size 432x288 with 1 Axes>"
      ]
     },
     "metadata": {
      "needs_background": "light"
     },
     "output_type": "display_data"
    }
   ],
   "source": [
    "#no missing values, we can also visualise this\n",
    "sns.heatmap(cars.isnull(),yticklabels=False,cbar=False,cmap='viridis')\n",
    "plt.title('Missing Values');"
   ]
  },
  {
   "cell_type": "code",
   "execution_count": 1988,
   "metadata": {},
   "outputs": [],
   "source": [
    "# #use pandas profiling to get early insights from the data after cleaning\n",
    "# prof=ProfileReport(cars)\n",
    "# prof.to_file(\"cars2.html\")"
   ]
  },
  {
   "cell_type": "markdown",
   "metadata": {},
   "source": [
    "### Finding Correlation Between the Features"
   ]
  },
  {
   "cell_type": "code",
   "execution_count": 1989,
   "metadata": {},
   "outputs": [
    {
     "data": {
      "text/html": [
       "<div>\n",
       "<style scoped>\n",
       "    .dataframe tbody tr th:only-of-type {\n",
       "        vertical-align: middle;\n",
       "    }\n",
       "\n",
       "    .dataframe tbody tr th {\n",
       "        vertical-align: top;\n",
       "    }\n",
       "\n",
       "    .dataframe thead th {\n",
       "        text-align: right;\n",
       "    }\n",
       "</style>\n",
       "<table border=\"1\" class=\"dataframe\">\n",
       "  <thead>\n",
       "    <tr style=\"text-align: right;\">\n",
       "      <th></th>\n",
       "      <th>Year</th>\n",
       "      <th>Kilometers_Driven</th>\n",
       "      <th>Mileage</th>\n",
       "      <th>Engine</th>\n",
       "      <th>Power</th>\n",
       "      <th>Seats</th>\n",
       "      <th>New_Price</th>\n",
       "      <th>Price</th>\n",
       "    </tr>\n",
       "  </thead>\n",
       "  <tbody>\n",
       "    <tr>\n",
       "      <th>Year</th>\n",
       "      <td>1.000000</td>\n",
       "      <td>-0.187859</td>\n",
       "      <td>0.305722</td>\n",
       "      <td>-0.054233</td>\n",
       "      <td>0.012855</td>\n",
       "      <td>0.008137</td>\n",
       "      <td>-0.006277</td>\n",
       "      <td>0.279449</td>\n",
       "    </tr>\n",
       "    <tr>\n",
       "      <th>Kilometers_Driven</th>\n",
       "      <td>-0.187859</td>\n",
       "      <td>1.000000</td>\n",
       "      <td>-0.066177</td>\n",
       "      <td>0.094765</td>\n",
       "      <td>0.030074</td>\n",
       "      <td>0.090162</td>\n",
       "      <td>0.015501</td>\n",
       "      <td>-0.011318</td>\n",
       "    </tr>\n",
       "    <tr>\n",
       "      <th>Mileage</th>\n",
       "      <td>0.305722</td>\n",
       "      <td>-0.066177</td>\n",
       "      <td>1.000000</td>\n",
       "      <td>-0.571141</td>\n",
       "      <td>-0.492623</td>\n",
       "      <td>-0.297155</td>\n",
       "      <td>-0.395629</td>\n",
       "      <td>-0.275583</td>\n",
       "    </tr>\n",
       "    <tr>\n",
       "      <th>Engine</th>\n",
       "      <td>-0.054233</td>\n",
       "      <td>0.094765</td>\n",
       "      <td>-0.571141</td>\n",
       "      <td>1.000000</td>\n",
       "      <td>0.853067</td>\n",
       "      <td>0.399033</td>\n",
       "      <td>0.693063</td>\n",
       "      <td>0.604829</td>\n",
       "    </tr>\n",
       "    <tr>\n",
       "      <th>Power</th>\n",
       "      <td>0.012855</td>\n",
       "      <td>0.030074</td>\n",
       "      <td>-0.492623</td>\n",
       "      <td>0.853067</td>\n",
       "      <td>1.000000</td>\n",
       "      <td>0.094826</td>\n",
       "      <td>0.792914</td>\n",
       "      <td>0.704212</td>\n",
       "    </tr>\n",
       "    <tr>\n",
       "      <th>Seats</th>\n",
       "      <td>0.008137</td>\n",
       "      <td>0.090162</td>\n",
       "      <td>-0.297155</td>\n",
       "      <td>0.399033</td>\n",
       "      <td>0.094826</td>\n",
       "      <td>1.000000</td>\n",
       "      <td>0.037291</td>\n",
       "      <td>0.047318</td>\n",
       "    </tr>\n",
       "    <tr>\n",
       "      <th>New_Price</th>\n",
       "      <td>-0.006277</td>\n",
       "      <td>0.015501</td>\n",
       "      <td>-0.395629</td>\n",
       "      <td>0.693063</td>\n",
       "      <td>0.792914</td>\n",
       "      <td>0.037291</td>\n",
       "      <td>1.000000</td>\n",
       "      <td>0.697585</td>\n",
       "    </tr>\n",
       "    <tr>\n",
       "      <th>Price</th>\n",
       "      <td>0.279449</td>\n",
       "      <td>-0.011318</td>\n",
       "      <td>-0.275583</td>\n",
       "      <td>0.604829</td>\n",
       "      <td>0.704212</td>\n",
       "      <td>0.047318</td>\n",
       "      <td>0.697585</td>\n",
       "      <td>1.000000</td>\n",
       "    </tr>\n",
       "  </tbody>\n",
       "</table>\n",
       "</div>"
      ],
      "text/plain": [
       "                       Year  Kilometers_Driven   Mileage    Engine     Power  \\\n",
       "Year               1.000000          -0.187859  0.305722 -0.054233  0.012855   \n",
       "Kilometers_Driven -0.187859           1.000000 -0.066177  0.094765  0.030074   \n",
       "Mileage            0.305722          -0.066177  1.000000 -0.571141 -0.492623   \n",
       "Engine            -0.054233           0.094765 -0.571141  1.000000  0.853067   \n",
       "Power              0.012855           0.030074 -0.492623  0.853067  1.000000   \n",
       "Seats              0.008137           0.090162 -0.297155  0.399033  0.094826   \n",
       "New_Price         -0.006277           0.015501 -0.395629  0.693063  0.792914   \n",
       "Price              0.279449          -0.011318 -0.275583  0.604829  0.704212   \n",
       "\n",
       "                      Seats  New_Price     Price  \n",
       "Year               0.008137  -0.006277  0.279449  \n",
       "Kilometers_Driven  0.090162   0.015501 -0.011318  \n",
       "Mileage           -0.297155  -0.395629 -0.275583  \n",
       "Engine             0.399033   0.693063  0.604829  \n",
       "Power              0.094826   0.792914  0.704212  \n",
       "Seats              1.000000   0.037291  0.047318  \n",
       "New_Price          0.037291   1.000000  0.697585  \n",
       "Price              0.047318   0.697585  1.000000  "
      ]
     },
     "execution_count": 1989,
     "metadata": {},
     "output_type": "execute_result"
    },
    {
     "data": {
      "image/png": "[encoded data removed]",
      "text/plain": [
       "<Figure size 432x288 with 2 Axes>"
      ]
     },
     "metadata": {
      "needs_background": "light"
     },
     "output_type": "display_data"
    }
   ],
   "source": [
    "corr=cars.corr()\n",
    "sns.heatmap(corr,xticklabels=True,yticklabels=True,cmap='Oranges_r')\n",
    "plt.title('Correlation plot of Features')\n",
    "corr "
   ]
  },
  {
   "cell_type": "markdown",
   "metadata": {},
   "source": [
    "#### Highly correlated Features\n",
    "\n",
    "Engine vs Power : 0.853067\n",
    "\n",
    "Power vs New price : 0.792914\n",
    "\n",
    "Power vs Price : 0.704212\n",
    "\n",
    "Engine vs Price : 0.604829\n",
    "\n",
    "#### Highly Negatively Correlated\n",
    "\n",
    "Mileage vs Engine  : -0.585023"
   ]
  },
  {
   "cell_type": "markdown",
   "metadata": {},
   "source": [
    "## Visualizing the Data"
   ]
  },
  {
   "cell_type": "markdown",
   "metadata": {},
   "source": [
    "### Changing String Data types to Categorical Data Types"
   ]
  },
  {
   "cell_type": "code",
   "execution_count": 1990,
   "metadata": {},
   "outputs": [
    {
     "data": {
      "text/plain": [
       "Location              object\n",
       "Year                   int64\n",
       "Kilometers_Driven      int64\n",
       "Fuel_Type             object\n",
       "Transmission          object\n",
       "Owner_Type            object\n",
       "Mileage              float64\n",
       "Engine               float64\n",
       "Power                float64\n",
       "Seats                float64\n",
       "New_Price            float64\n",
       "Price                float64\n",
       "Car_Brand             object\n",
       "Model                 object\n",
       "dtype: object"
      ]
     },
     "execution_count": 1990,
     "metadata": {},
     "output_type": "execute_result"
    }
   ],
   "source": [
    "cars.dtypes"
   ]
  },
  {
   "cell_type": "markdown",
   "metadata": {},
   "source": [
    "We have to change to categorical data types to aid visualizations"
   ]
  },
  {
   "cell_type": "code",
   "execution_count": 1991,
   "metadata": {},
   "outputs": [],
   "source": [
    "cars['Model'] = cars['Model'].astype('category')\n",
    "cars['Car_Brand'] = cars['Car_Brand'].astype('category')\n",
    "cars['Location'] = cars['Location'].astype('category')\n",
    "cars['Fuel_Type'] = cars['Fuel_Type'].astype('category')\n",
    "cars['Transmission'] = cars['Transmission'].astype('category')\n",
    "cars['Owner_Type'] = cars['Owner_Type'].astype('category')"
   ]
  },
  {
   "cell_type": "code",
   "execution_count": 1992,
   "metadata": {},
   "outputs": [
    {
     "data": {
      "text/plain": [
       "Location             category\n",
       "Year                    int64\n",
       "Kilometers_Driven       int64\n",
       "Fuel_Type            category\n",
       "Transmission         category\n",
       "Owner_Type           category\n",
       "Mileage               float64\n",
       "Engine                float64\n",
       "Power                 float64\n",
       "Seats                 float64\n",
       "New_Price             float64\n",
       "Price                 float64\n",
       "Car_Brand            category\n",
       "Model                category\n",
       "dtype: object"
      ]
     },
     "execution_count": 1992,
     "metadata": {},
     "output_type": "execute_result"
    }
   ],
   "source": [
    "#checking\n",
    "cars.dtypes"
   ]
  },
  {
   "cell_type": "markdown",
   "metadata": {},
   "source": [
    "### Univariate Analysis"
   ]
  },
  {
   "cell_type": "markdown",
   "metadata": {},
   "source": [
    "Here we explore distribution of individual variables to derive insights"
   ]
  },
  {
   "cell_type": "code",
   "execution_count": 1993,
   "metadata": {},
   "outputs": [],
   "source": [
    "#function to build plots\n",
    "def plot(data,var,color):\n",
    "    sns.countplot(data=data,x=var,color=color)\n",
    "    plt.title(f\"Distibution of {var}\")\n",
    "    plt.xlabel(f\"{var}\")\n",
    "    plt.ylabel(\"Count\")\n",
    "    plt.show()"
   ]
  },
  {
   "cell_type": "code",
   "execution_count": 1994,
   "metadata": {},
   "outputs": [
    {
     "name": "stderr",
     "output_type": "stream",
     "text": [
      "C:\\Users\\User\\AppData\\Local\\Temp\\ipykernel_22580\\3572138202.py:7: UserWarning: Matplotlib is currently using agg, which is a non-GUI backend, so cannot show the figure.\n",
      "  plt.show()\n"
     ]
    },
    {
     "data": {
      "image/png": "[encoded data removed]",
      "text/plain": [
       "<Figure size 432x288 with 1 Axes>"
      ]
     },
     "metadata": {
      "needs_background": "light"
     },
     "output_type": "display_data"
    }
   ],
   "source": [
    "fuel_type = plot(cars,'Fuel_Type',color='blue')"
   ]
  },
  {
   "cell_type": "markdown",
   "metadata": {},
   "source": [
    "There are more cars that run on diesel , followed by PetrolT"
   ]
  },
  {
   "cell_type": "code",
   "execution_count": 1995,
   "metadata": {},
   "outputs": [
    {
     "name": "stderr",
     "output_type": "stream",
     "text": [
      "C:\\Users\\User\\AppData\\Local\\Temp\\ipykernel_22580\\3572138202.py:7: UserWarning: Matplotlib is currently using agg, which is a non-GUI backend, so cannot show the figure.\n",
      "  plt.show()\n"
     ]
    },
    {
     "data": {
      "image/png": "[encoded data removed]",
      "text/plain": [
       "<Figure size 432x288 with 1 Axes>"
      ]
     },
     "metadata": {
      "needs_background": "light"
     },
     "output_type": "display_data"
    }
   ],
   "source": [
    "transmission = plot(cars,'Transmission',color='orange')"
   ]
  },
  {
   "cell_type": "markdown",
   "metadata": {},
   "source": [
    "There are more manual cars than automatic"
   ]
  },
  {
   "cell_type": "code",
   "execution_count": 1996,
   "metadata": {},
   "outputs": [
    {
     "name": "stderr",
     "output_type": "stream",
     "text": [
      "C:\\Users\\User\\AppData\\Local\\Temp\\ipykernel_22580\\3572138202.py:7: UserWarning: Matplotlib is currently using agg, which is a non-GUI backend, so cannot show the figure.\n",
      "  plt.show()\n"
     ]
    },
    {
     "data": {
      "image/png": "[encoded data removed]",
      "text/plain": [
       "<Figure size 432x288 with 1 Axes>"
      ]
     },
     "metadata": {
      "needs_background": "light"
     },
     "output_type": "display_data"
    }
   ],
   "source": [
    "owner_type = plot(cars,'Owner_Type',color='green')"
   ]
  },
  {
   "cell_type": "markdown",
   "metadata": {},
   "source": [
    "There are more cars that are first owners than other level of ownership"
   ]
  },
  {
   "cell_type": "code",
   "execution_count": 1997,
   "metadata": {},
   "outputs": [
    {
     "data": {
      "image/png": "[encoded data removed]",
      "text/plain": [
       "<Figure size 1080x720 with 1 Axes>"
      ]
     },
     "metadata": {
      "needs_background": "light"
     },
     "output_type": "display_data"
    }
   ],
   "source": [
    "#Top 10 years \n",
    "years_top10 = cars['Year'].value_counts().iloc[:10]\n",
    "years = pd.DataFrame({'Year': years_top10.index, 'count': years_top10.values})\n",
    "plt.figure(figsize=(15,10))\n",
    "plt.title('Top 10 Year of Manufacture',size=20)\n",
    "ax = sns.barplot(x='Year',y='count',data=years, order=years['Year']);\n",
    "ax.set_xticklabels(ax.get_xticklabels(), rotation=90, ha=\"right\",fontsize=10);"
   ]
  },
  {
   "cell_type": "markdown",
   "metadata": {},
   "source": [
    "Cars that were manufactured in 2015 sold the highest, followed by year 2014"
   ]
  },
  {
   "cell_type": "code",
   "execution_count": 1998,
   "metadata": {},
   "outputs": [
    {
     "data": {
      "image/png": "[encoded data removed]",
      "text/plain": [
       "<Figure size 1080x720 with 1 Axes>"
      ]
     },
     "metadata": {
      "needs_background": "light"
     },
     "output_type": "display_data"
    }
   ],
   "source": [
    "#Top 10 Car brands \n",
    "car_top10 = cars['Car_Brand'].value_counts().iloc[:10]\n",
    "car = pd.DataFrame({'Car_Brand': car_top10.index, 'count': car_top10.values})\n",
    "plt.figure(figsize=(15,10))\n",
    "plt.title('Top 10 Car Brands ', size=20)\n",
    "ax = sns.barplot(x='Car_Brand',y='count',data=car, order=car['Car_Brand']);\n",
    "ax.set_xticklabels(ax.get_xticklabels(), rotation=90, ha=\"right\",fontsize=10);"
   ]
  },
  {
   "cell_type": "markdown",
   "metadata": {},
   "source": [
    "Maruti had the highest price, followed by Hyundai"
   ]
  },
  {
   "cell_type": "markdown",
   "metadata": {},
   "source": [
    "### Bivariate Analysis"
   ]
  },
  {
   "cell_type": "markdown",
   "metadata": {},
   "source": [
    "Here we explore the relationship between individual variables and the target variable"
   ]
  },
  {
   "cell_type": "code",
   "execution_count": 1999,
   "metadata": {},
   "outputs": [],
   "source": [
    "#function for scatter plot\n",
    "def reg_plot(x,y,data,color):\n",
    "    sns.regplot(x=x, y=y, data=data,color=color)\n",
    "    plt.title('Regplot of {}'.format(x), size=20);"
   ]
  },
  {
   "cell_type": "code",
   "execution_count": 2000,
   "metadata": {},
   "outputs": [
    {
     "data": {
      "image/png": "[encoded data removed]",
      "text/plain": [
       "<Figure size 432x288 with 1 Axes>"
      ]
     },
     "metadata": {
      "needs_background": "light"
     },
     "output_type": "display_data"
    }
   ],
   "source": [
    "reg_plot('Mileage','Price',cars,'blue')"
   ]
  },
  {
   "cell_type": "markdown",
   "metadata": {},
   "source": [
    "Above graph shows that there is a negative linear relationship between price and mileage. So,these two features have negative Correlation. In other words the price reduces as the mileage increases"
   ]
  },
  {
   "cell_type": "code",
   "execution_count": 2001,
   "metadata": {},
   "outputs": [
    {
     "data": {
      "image/png": "[encoded data removed]",
      "text/plain": [
       "<Figure size 432x288 with 1 Axes>"
      ]
     },
     "metadata": {
      "needs_background": "light"
     },
     "output_type": "display_data"
    }
   ],
   "source": [
    "reg_plot('Engine','Price',cars,'orange')"
   ]
  },
  {
   "cell_type": "markdown",
   "metadata": {},
   "source": [
    "Above graph shows that there is a positive Linear relationship between engine and price .So , these two features have positive Correlation . So therefore, the size of the engine determines the price."
   ]
  },
  {
   "cell_type": "code",
   "execution_count": 2002,
   "metadata": {},
   "outputs": [
    {
     "data": {
      "image/png": "[encoded data removed]",
      "text/plain": [
       "<Figure size 432x288 with 1 Axes>"
      ]
     },
     "metadata": {
      "needs_background": "light"
     },
     "output_type": "display_data"
    }
   ],
   "source": [
    "reg_plot('Power','Price',cars,'green')"
   ]
  },
  {
   "cell_type": "markdown",
   "metadata": {},
   "source": [
    "There is a positive Linear relationship between the power and price .So , these two features have positive Correlation . In other words, the higher the power, the higher the price."
   ]
  },
  {
   "cell_type": "code",
   "execution_count": 2003,
   "metadata": {},
   "outputs": [
    {
     "data": {
      "image/png": "[encoded data removed]",
      "text/plain": [
       "<Figure size 432x288 with 1 Axes>"
      ]
     },
     "metadata": {
      "needs_background": "light"
     },
     "output_type": "display_data"
    }
   ],
   "source": [
    "reg_plot('Seats','Price',cars,'red')"
   ]
  },
  {
   "cell_type": "markdown",
   "metadata": {},
   "source": [
    "Although there is a positive correlation between seats and price, seats does not directly influence the price of cars, other factors would have to be considered"
   ]
  },
  {
   "cell_type": "code",
   "execution_count": 2004,
   "metadata": {},
   "outputs": [
    {
     "data": {
      "image/png": "[encoded data removed]",
      "text/plain": [
       "<Figure size 432x288 with 1 Axes>"
      ]
     },
     "metadata": {
      "needs_background": "light"
     },
     "output_type": "display_data"
    }
   ],
   "source": [
    "reg_plot('Kilometers_Driven','Price',cars,'blue')"
   ]
  },
  {
   "cell_type": "markdown",
   "metadata": {},
   "source": [
    "There is a negative correlation betwwen the kilometers driven and the price. The cars that are less driven has high price"
   ]
  },
  {
   "cell_type": "code",
   "execution_count": 2005,
   "metadata": {},
   "outputs": [],
   "source": [
    "#function for subplots\n",
    "def sub_plot(x,y,data,kind):\n",
    "    var = data.groupby(x).Price.sum()\n",
    "    fig = plt.figure()\n",
    "    ax1 = fig.add_subplot(1,1,1)\n",
    "    ax1.set_xlabel(x)\n",
    "    ax1.set_ylabel(f'Increase In {y}')\n",
    "    ax1.set_title(f\"{x} Vs {y}\")\n",
    "    var.plot(kind=kind)"
   ]
  },
  {
   "cell_type": "code",
   "execution_count": 2006,
   "metadata": {},
   "outputs": [
    {
     "data": {
      "image/png": "[encoded data removed]",
      "text/plain": [
       "<Figure size 432x288 with 1 Axes>"
      ]
     },
     "metadata": {
      "needs_background": "light"
     },
     "output_type": "display_data"
    }
   ],
   "source": [
    "#plot of years vs price\n",
    "sub_plot(x='Year',y='Price',data=cars,kind='line')"
   ]
  },
  {
   "cell_type": "markdown",
   "metadata": {},
   "source": [
    "Price of Cars registered between 2009 and 2016 went up the most, with 2015 being the peak"
   ]
  },
  {
   "cell_type": "code",
   "execution_count": 2007,
   "metadata": {},
   "outputs": [
    {
     "data": {
      "image/png": "[encoded data removed]",
      "text/plain": [
       "<Figure size 432x288 with 1 Axes>"
      ]
     },
     "metadata": {
      "needs_background": "light"
     },
     "output_type": "display_data"
    }
   ],
   "source": [
    "#plot of fuel type vs price\n",
    "sub_plot(x='Fuel_Type',y='Price',data=cars,kind='bar')"
   ]
  },
  {
   "cell_type": "markdown",
   "metadata": {},
   "source": [
    "Diesel cars have the highest number of cars for sale and also has the highest price. followed by peterol cars"
   ]
  },
  {
   "cell_type": "code",
   "execution_count": 2008,
   "metadata": {},
   "outputs": [
    {
     "data": {
      "image/png": "[encoded data removed]",
      "text/plain": [
       "<Figure size 432x288 with 1 Axes>"
      ]
     },
     "metadata": {
      "needs_background": "light"
     },
     "output_type": "display_data"
    }
   ],
   "source": [
    "#plot of transmission vs price\n",
    "sub_plot(x='Transmission',y='Price',data=cars,kind='bar')"
   ]
  },
  {
   "cell_type": "markdown",
   "metadata": {},
   "source": [
    "Automatic cars are more expensive than manual cars"
   ]
  },
  {
   "cell_type": "markdown",
   "metadata": {},
   "source": [
    "### Convert Categorical Variables to Numerical Variables"
   ]
  },
  {
   "cell_type": "code",
   "execution_count": 2009,
   "metadata": {},
   "outputs": [],
   "source": [
    "#import the library\n",
    "from sklearn.preprocessing import LabelEncoder\n",
    "#create an instance\n",
    "label_encoder = LabelEncoder()"
   ]
  },
  {
   "cell_type": "code",
   "execution_count": 2010,
   "metadata": {},
   "outputs": [],
   "source": [
    "cars['Car_Brand'] = label_encoder.fit_transform(cars['Car_Brand'])\n",
    "cars['Model'] = label_encoder.fit_transform(cars['Model'])\n",
    "cars['Location'] = label_encoder.fit_transform(cars['Location'])\n",
    "cars['Fuel_Type'] = label_encoder.fit_transform(cars['Fuel_Type'])\n",
    "cars['Transmission'] = label_encoder.fit_transform(cars['Transmission'])\n",
    "cars['Owner_Type'] = label_encoder.fit_transform(cars['Owner_Type'])\n",
    "# cars['Price'] = label_encoder.fit_transform(cars['Price'])"
   ]
  },
  {
   "cell_type": "code",
   "execution_count": 2011,
   "metadata": {},
   "outputs": [
    {
     "data": {
      "text/plain": [
       "Location               int32\n",
       "Year                   int64\n",
       "Kilometers_Driven      int64\n",
       "Fuel_Type              int32\n",
       "Transmission           int32\n",
       "Owner_Type             int32\n",
       "Mileage              float64\n",
       "Engine               float64\n",
       "Power                float64\n",
       "Seats                float64\n",
       "New_Price            float64\n",
       "Price                float64\n",
       "Car_Brand              int32\n",
       "Model                  int32\n",
       "dtype: object"
      ]
     },
     "execution_count": 2011,
     "metadata": {},
     "output_type": "execute_result"
    }
   ],
   "source": [
    "# checking\n",
    "cars.dtypes"
   ]
  },
  {
   "cell_type": "markdown",
   "metadata": {},
   "source": [
    "We had to use Label encoder to transform non-numerical labels to numerical labels"
   ]
  },
  {
   "cell_type": "markdown",
   "metadata": {},
   "source": [
    "## MODELLING"
   ]
  },
  {
   "cell_type": "code",
   "execution_count": 2012,
   "metadata": {},
   "outputs": [],
   "source": [
    "#import the libraries for modelling\n",
    "from sklearn.linear_model import LinearRegression,Ridge,Lasso\n",
    "from sklearn.ensemble import RandomForestRegressor\n",
    "from sklearn.linear_model import ElasticNet\n",
    "from sklearn.tree import DecisionTreeRegressor\n",
    "from sklearn.model_selection import train_test_split\n",
    "from sklearn.preprocessing import MinMaxScaler\n",
    "from sklearn.metrics import mean_absolute_error, mean_squared_error, r2_score\n",
    "from matplotlib import pyplot"
   ]
  },
  {
   "cell_type": "markdown",
   "metadata": {},
   "source": [
    "Now let us start with Linear models"
   ]
  },
  {
   "cell_type": "markdown",
   "metadata": {},
   "source": [
    "### Linear Regression Model"
   ]
  },
  {
   "cell_type": "code",
   "execution_count": 2013,
   "metadata": {},
   "outputs": [],
   "source": [
    "#create a function that will split the data into training and test sets, and normalize the data\n",
    "def get_data(target):\n",
    "\n",
    "#get the features and the target\n",
    "    features = cars.drop(target,axis=1).values\n",
    "    label = cars[target].values\n",
    "#split the data\n",
    "    x_train,x_test,y_train,y_test = train_test_split(features,label,test_size=0.2,random_state=0)\n",
    "#normalize the data\n",
    "    scaler=MinMaxScaler()\n",
    "    x_train_scaler= scaler.fit_transform(x_train)\n",
    "    x_test_scaler = scaler.transform(x_test)\n",
    "\n",
    "    return x_train_scaler,x_test_scaler,y_train,y_test"
   ]
  },
  {
   "cell_type": "code",
   "execution_count": 2014,
   "metadata": {},
   "outputs": [],
   "source": [
    "#calling the function\n",
    "x_train_scaler,x_test_scaler,y_train,y_test = get_data('Price')"
   ]
  },
  {
   "cell_type": "code",
   "execution_count": 2015,
   "metadata": {},
   "outputs": [
    {
     "data": {
      "text/plain": [
       "((5802, 13), (1451, 13), (5802,), (1451,))"
      ]
     },
     "execution_count": 2015,
     "metadata": {},
     "output_type": "execute_result"
    }
   ],
   "source": [
    "#check the shape of the data\n",
    "x_train_scaler.shape,x_test_scaler.shape,y_train.shape,y_test.shape"
   ]
  },
  {
   "cell_type": "code",
   "execution_count": 2016,
   "metadata": {},
   "outputs": [],
   "source": [
    "#function to model the data\n",
    "def modelling(model_name):\n",
    "#create an instance of the model    \n",
    "    model = model_name\n",
    "#train the model\n",
    "    model.fit(x_train_scaler,y_train)\n",
    "#get the training and testing accuracy \n",
    "    train_acc = model.score(x_train_scaler,y_train)\n",
    "    test_acc = model.score(x_test_scaler,y_test)\n",
    "#return the training and testing accuracy    \n",
    "    return train_acc,test_acc"
   ]
  },
  {
   "cell_type": "code",
   "execution_count": 2017,
   "metadata": {},
   "outputs": [],
   "source": [
    "#create an instance of the model\n",
    "lr = LinearRegression()\n",
    "#calling the function to model the data\n",
    "train_acc,test_acc = modelling(LinearRegression())"
   ]
  },
  {
   "cell_type": "code",
   "execution_count": 2018,
   "metadata": {},
   "outputs": [
    {
     "name": "stdout",
     "output_type": "stream",
     "text": [
      "Train Accuracy:0.635\n",
      "Test Accuracy:0.617\n"
     ]
    }
   ],
   "source": [
    "#print the accuracies\n",
    "print(\"Train Accuracy:{:.3f}\".format(train_acc))\n",
    "print(\"Test Accuracy:{:.3f}\".format(test_acc))"
   ]
  },
  {
   "cell_type": "markdown",
   "metadata": {},
   "source": [
    "The Linear regression model overfits slightly"
   ]
  },
  {
   "cell_type": "markdown",
   "metadata": {},
   "source": [
    "### Linear Regression Model Prediction"
   ]
  },
  {
   "cell_type": "code",
   "execution_count": 2019,
   "metadata": {},
   "outputs": [],
   "source": [
    "#fucntion for model prediction \n",
    "def model_predict(model):\n",
    "    Y_pred = model.predict(x_test_scaler)\n",
    "    return Y_pred"
   ]
  },
  {
   "cell_type": "code",
   "execution_count": 2020,
   "metadata": {},
   "outputs": [],
   "source": [
    "# #fit the model\n",
    "lr.fit(x_train_scaler,y_train)\n",
    "#make predictions on the test data\n",
    "lr_pred = model_predict(lr)"
   ]
  },
  {
   "cell_type": "markdown",
   "metadata": {},
   "source": [
    "### Performance Metrics for Linear Regression Model"
   ]
  },
  {
   "cell_type": "markdown",
   "metadata": {},
   "source": [
    "Now, lets check for the coefficient and bias"
   ]
  },
  {
   "cell_type": "code",
   "execution_count": 2021,
   "metadata": {},
   "outputs": [
    {
     "name": "stdout",
     "output_type": "stream",
     "text": [
      "Linear Regression Coefficient:  [-1.52571481e+00  2.07746099e+01  1.81387701e+01 -7.86961676e-01\n",
      " -5.89003793e-01 -1.85236165e-01 -3.09576221e+00  9.39090786e+00\n",
      "  3.11104800e+01 -8.21036719e+00  5.73054756e+01  3.78159406e-03\n",
      "  9.57668331e-01]\n",
      "Linear Regression bias:  -9.31846816453491\n"
     ]
    }
   ],
   "source": [
    "print('Linear Regression Coefficient: ',lr.coef_)\n",
    "print('Linear Regression bias: ',lr.intercept_)\n",
    "\n"
   ]
  },
  {
   "cell_type": "code",
   "execution_count": 2022,
   "metadata": {},
   "outputs": [
    {
     "name": "stdout",
     "output_type": "stream",
     "text": [
      "Linear Regression mean absolute error:  3.632140472767251\n"
     ]
    }
   ],
   "source": [
    "# Mean Absolute Error on test\n",
    "print('Linear Regression mean absolute error: ',mean_absolute_error(y_test, lr_pred))"
   ]
  },
  {
   "cell_type": "code",
   "execution_count": 2023,
   "metadata": {},
   "outputs": [
    {
     "name": "stdout",
     "output_type": "stream",
     "text": [
      "Linear Regression mean squared error:  2.555807237449312\n"
     ]
    }
   ],
   "source": [
    "# RMSE on test data\n",
    "print('Linear Regression mean squared error: ',np.sqrt(mean_squared_error(y_test, lr_pred)**0.5))"
   ]
  },
  {
   "cell_type": "code",
   "execution_count": 2024,
   "metadata": {},
   "outputs": [
    {
     "name": "stdout",
     "output_type": "stream",
     "text": [
      "Linear Regression R2 Score:  0.6171392819585484\n"
     ]
    }
   ],
   "source": [
    "# R2 Squared: on test\n",
    "print('Linear Regression R2 Score: ',r2_score(y_test, lr_pred))"
   ]
  },
  {
   "cell_type": "markdown",
   "metadata": {},
   "source": [
    "Now let us try and regularize the model to help reduce the coefficients to be close to zero(0)"
   ]
  },
  {
   "cell_type": "markdown",
   "metadata": {},
   "source": [
    "### Model Regularization using Ridge Regression"
   ]
  },
  {
   "cell_type": "code",
   "execution_count": 2025,
   "metadata": {},
   "outputs": [],
   "source": [
    "\n",
    "#calling the function get the accuracy\n",
    "train_ridge,test_ridge = modelling(Ridge())\n"
   ]
  },
  {
   "cell_type": "code",
   "execution_count": 2026,
   "metadata": {},
   "outputs": [
    {
     "name": "stdout",
     "output_type": "stream",
     "text": [
      "Train Accuracy:0.634\n",
      "Test Accuracy:0.619\n"
     ]
    }
   ],
   "source": [
    "#print the accuracies\n",
    "print(\"Train Accuracy:{:.3f}\".format(train_ridge))\n",
    "print(\"Test Accuracy:{:.3f}\".format(test_ridge))"
   ]
  },
  {
   "cell_type": "code",
   "execution_count": 2027,
   "metadata": {},
   "outputs": [],
   "source": [
    "#regularize the model using different values of c\n",
    "alpha_values = [0.8,1.0,2,5,10,15]\n",
    "#function to regularize the model\n",
    "def lr_reg(alpha_values):\n",
    "    train_accuracy,test_accuracy = [],[] #empty list to save the result\n",
    "    for val in alpha_values:\n",
    "        train_ridge,test_ridge = modelling(Ridge(alpha=val))\n",
    "        \n",
    "        train_accuracy.append(train_ridge)\n",
    "        test_accuracy.append(test_ridge)\n",
    "#return the training and testing accuracy        \n",
    "    return train_accuracy,test_accuracy "
   ]
  },
  {
   "cell_type": "code",
   "execution_count": 2028,
   "metadata": {},
   "outputs": [
    {
     "name": "stdout",
     "output_type": "stream",
     "text": [
      "Train Accuracies: [0.6343516477647766, 0.6341698481696798, 0.6330069410887795, 0.6283025900769288, 0.6194867333177008, 0.6107399274924978]\n",
      "Test Accuracies: [0.6184723107591388, 0.6186555864400756, 0.6190610917044636, 0.6177432394587715, 0.6126384675474686, 0.6063826818663792]\n"
     ]
    }
   ],
   "source": [
    "#calling the function\n",
    "train_accuracy,test_accuracy = lr_reg(alpha_values,)\n",
    "print(\"Train Accuracies:\",train_accuracy)\n",
    "print(\"Test Accuracies:\", test_accuracy)"
   ]
  },
  {
   "cell_type": "markdown",
   "metadata": {},
   "source": [
    "### Let us Visualise the result"
   ]
  },
  {
   "cell_type": "code",
   "execution_count": 2029,
   "metadata": {},
   "outputs": [],
   "source": [
    "#function to visualise the alpha values\n",
    "def alpha_plot(alpha_values):\n",
    "    plt.plot(alpha_values,train_accuracy,label=\"Training Accuracy\")\n",
    "    plt.plot(alpha_values,test_accuracy,label=\"Testing Accuracy\")\n",
    "    plt.legend()\n",
    "    plt.xlabel(\"Values of Alpha\")\n",
    "    plt.ylabel(\"Accuracy\")\n",
    "    plt.show()"
   ]
  },
  {
   "cell_type": "code",
   "execution_count": 2030,
   "metadata": {},
   "outputs": [
    {
     "name": "stderr",
     "output_type": "stream",
     "text": [
      "C:\\Users\\User\\AppData\\Local\\Temp\\ipykernel_22580\\4266422504.py:8: UserWarning: Matplotlib is currently using agg, which is a non-GUI backend, so cannot show the figure.\n",
      "  plt.show()\n"
     ]
    },
    {
     "data": {
      "image/png": "[encoded data removed]",
      "text/plain": [
       "<Figure size 432x288 with 1 Axes>"
      ]
     },
     "metadata": {
      "needs_background": "light"
     },
     "output_type": "display_data"
    }
   ],
   "source": [
    "alpha_plot(alpha_values)"
   ]
  },
  {
   "cell_type": "markdown",
   "metadata": {},
   "source": [
    "From the plot it shows that the training went above the testing in all the alpha-values. But it was closest at 15. let us use the alpha-value of 15"
   ]
  },
  {
   "cell_type": "code",
   "execution_count": 2031,
   "metadata": {},
   "outputs": [],
   "source": [
    "train_ridge,test_ridge = modelling(Ridge(alpha=15))"
   ]
  },
  {
   "cell_type": "code",
   "execution_count": 2032,
   "metadata": {},
   "outputs": [
    {
     "name": "stdout",
     "output_type": "stream",
     "text": [
      "Train Accuracy: 0.6347671035156275\n",
      "Test Accuracy: 0.6171392819585484\n"
     ]
    }
   ],
   "source": [
    "\n",
    "print(\"Train Accuracy:\",train_acc)\n",
    "print(\"Test Accuracy:\", test_acc)"
   ]
  },
  {
   "cell_type": "markdown",
   "metadata": {},
   "source": [
    "Now lets predict"
   ]
  },
  {
   "cell_type": "code",
   "execution_count": 2033,
   "metadata": {},
   "outputs": [],
   "source": [
    "#create an instance of the model\n",
    "Ridge = Ridge()"
   ]
  },
  {
   "cell_type": "code",
   "execution_count": 2034,
   "metadata": {},
   "outputs": [],
   "source": [
    "#calling the function to predict\n",
    "# #fit the model\n",
    "Ridge.fit(x_train_scaler,y_train)\n",
    "#make predictions on the test data\n",
    "ridge_pred = model_predict(Ridge)"
   ]
  },
  {
   "cell_type": "markdown",
   "metadata": {},
   "source": [
    "### Performance Metrics for Ridge Regression"
   ]
  },
  {
   "cell_type": "code",
   "execution_count": 2035,
   "metadata": {},
   "outputs": [
    {
     "name": "stdout",
     "output_type": "stream",
     "text": [
      "Ridge Regression Coefficient:  [-1.54251671 20.36404776  9.19048675 -0.93572812 -0.87500823 -0.21948727\n",
      " -3.24904968 11.05817399 30.70728772 -8.51648746 52.07719627 -0.13999688\n",
      "  0.91152886]\n",
      "Ridge Regression bias:  -8.435006946758843\n"
     ]
    }
   ],
   "source": [
    "print('Ridge Regression Coefficient: ',Ridge.coef_)\n",
    "print('Ridge Regression bias: ',Ridge.intercept_)"
   ]
  },
  {
   "cell_type": "code",
   "execution_count": 2036,
   "metadata": {},
   "outputs": [
    {
     "name": "stdout",
     "output_type": "stream",
     "text": [
      "Ridge Regression mean absolute error:  3.6448964690805226\n",
      "Ridge Regression mean squared error:  2.5532729274973365\n",
      "Ridge Regression R2 Score:  0.6186555864400756\n"
     ]
    }
   ],
   "source": [
    "# Mean Absolute Error on test\n",
    "print('Ridge Regression mean absolute error: ',mean_absolute_error(y_test, ridge_pred))\n",
    "# RMSE on test data\n",
    "print('Ridge Regression mean squared error: ',np.sqrt(mean_squared_error(y_test, ridge_pred)**0.5))\n",
    "# R2 Squared: on test\n",
    "print('Ridge Regression R2 Score: ',r2_score(y_test, ridge_pred))\n"
   ]
  },
  {
   "cell_type": "markdown",
   "metadata": {},
   "source": [
    "### Model Regularization using Lasso Regression"
   ]
  },
  {
   "cell_type": "code",
   "execution_count": 2037,
   "metadata": {},
   "outputs": [],
   "source": [
    "#calling the function get the accuracy\n",
    "train_lasso,test_lasso = modelling(Lasso())"
   ]
  },
  {
   "cell_type": "code",
   "execution_count": 2038,
   "metadata": {},
   "outputs": [
    {
     "name": "stdout",
     "output_type": "stream",
     "text": [
      "Train Accuracy:0.237\n",
      "Test Accuracy:0.233\n"
     ]
    }
   ],
   "source": [
    "#print the accuracies\n",
    "print(\"Train Accuracy:{:.3f}\".format(train_lasso))\n",
    "print(\"Test Accuracy:{:.3f}\".format(test_lasso))"
   ]
  },
  {
   "cell_type": "code",
   "execution_count": 2039,
   "metadata": {},
   "outputs": [],
   "source": [
    "#regularize the model using different values of c\n",
    "alpha_values = [0.1,0.2,0.3,0.4,0.5,0.8]\n",
    "#function to regularize the model\n",
    "def lr_reg2(alpha_values):\n",
    "    train_accuracy,test_accuracy = [],[] #empty list to save the result\n",
    "    for val in alpha_values:\n",
    "        train_lasso,test_lasso = modelling(Lasso(alpha=val))\n",
    "        \n",
    "        train_accuracy.append(train_lasso)\n",
    "        test_accuracy.append(test_lasso)\n",
    "#return the training and testing accuracy        \n",
    "    return train_accuracy,test_accuracy "
   ]
  },
  {
   "cell_type": "code",
   "execution_count": 2040,
   "metadata": {},
   "outputs": [
    {
     "name": "stdout",
     "output_type": "stream",
     "text": [
      "Train Accuracies: [0.587788412787807, 0.5054472558678302, 0.41003345282256987, 0.31506573819153727, 0.3056992297565323, 0.26511101723606334]\n",
      "Test Accuracies: [0.588750726826378, 0.508752767771698, 0.4131607635281034, 0.311877408908364, 0.3019025942154061, 0.2609717554280553]\n"
     ]
    }
   ],
   "source": [
    "#calling the function\n",
    "train_accuracy,test_accuracy = lr_reg2(alpha_values)\n",
    "print(\"Train Accuracies:\",train_accuracy)\n",
    "print(\"Test Accuracies:\", test_accuracy)"
   ]
  },
  {
   "cell_type": "markdown",
   "metadata": {},
   "source": [
    "### Let us Visualise the Result"
   ]
  },
  {
   "cell_type": "code",
   "execution_count": 2041,
   "metadata": {},
   "outputs": [
    {
     "name": "stderr",
     "output_type": "stream",
     "text": [
      "C:\\Users\\User\\AppData\\Local\\Temp\\ipykernel_22580\\4266422504.py:8: UserWarning: Matplotlib is currently using agg, which is a non-GUI backend, so cannot show the figure.\n",
      "  plt.show()\n"
     ]
    },
    {
     "data": {
      "image/png": "[encoded data removed]",
      "text/plain": [
       "<Figure size 432x288 with 1 Axes>"
      ]
     },
     "metadata": {
      "needs_background": "light"
     },
     "output_type": "display_data"
    }
   ],
   "source": [
    "#function to visualise the alpha values\n",
    "alpha_plot(alpha_values)\n",
    " "
   ]
  },
  {
   "cell_type": "markdown",
   "metadata": {},
   "source": [
    "This model generalised very well in all the alpha values, but it was closest at alpha of 0.1. Let us this value"
   ]
  },
  {
   "cell_type": "code",
   "execution_count": 2042,
   "metadata": {},
   "outputs": [
    {
     "name": "stdout",
     "output_type": "stream",
     "text": [
      "Train Accuracy: 0.6347671035156275\n",
      "Test Accuracy: 0.6171392819585484\n"
     ]
    }
   ],
   "source": [
    "train_lasso,test_lasso = modelling(Lasso(alpha=0.1))\n",
    "\n",
    "print(\"Train Accuracy:\",train_acc)\n",
    "print(\"Test Accuracy:\", test_acc)"
   ]
  },
  {
   "cell_type": "markdown",
   "metadata": {},
   "source": [
    "Now let us predict"
   ]
  },
  {
   "cell_type": "code",
   "execution_count": 2043,
   "metadata": {},
   "outputs": [],
   "source": [
    "#create an instance of the model\n",
    "lasso = Lasso()"
   ]
  },
  {
   "cell_type": "code",
   "execution_count": 2044,
   "metadata": {},
   "outputs": [],
   "source": [
    "#calling the function to predict\n",
    "# #fit the model\n",
    "lasso.fit(x_train_scaler,y_train)\n",
    "#make predictions on the test data\n",
    "lasso_pred = model_predict(lasso)"
   ]
  },
  {
   "cell_type": "markdown",
   "metadata": {},
   "source": [
    "### Performance Metrics for Lasso Regression"
   ]
  },
  {
   "cell_type": "code",
   "execution_count": 2045,
   "metadata": {},
   "outputs": [
    {
     "name": "stdout",
     "output_type": "stream",
     "text": [
      "Lasso Regression Coefficient:  [-0.          0.          0.         -0.         -7.04042273 -0.\n",
      " -0.          0.          0.          0.          0.         -0.\n",
      " -0.        ]\n",
      "Lasso Regression bias:  14.504190635277439\n"
     ]
    }
   ],
   "source": [
    "print('Lasso Regression Coefficient: ',lasso.coef_)\n",
    "print('Lasso Regression bias: ',lasso.intercept_)"
   ]
  },
  {
   "cell_type": "code",
   "execution_count": 2046,
   "metadata": {},
   "outputs": [
    {
     "name": "stdout",
     "output_type": "stream",
     "text": [
      "Lasso Regression mean absolute error:  5.344745578407873\n",
      "Lasso Regression mean squared error:  3.0404972765682934\n",
      "Lasso Regression R2 Score:  0.23315621524629127\n"
     ]
    }
   ],
   "source": [
    "# Mean Absolute Error on test\n",
    "print('Lasso Regression mean absolute error: ',mean_absolute_error(y_test, lasso_pred))\n",
    "# RMSE on test data\n",
    "print('Lasso Regression mean squared error: ',np.sqrt(mean_squared_error(y_test, lasso_pred)**0.5))\n",
    "# R2 Squared: on test\n",
    "print('Lasso Regression R2 Score: ',r2_score(y_test, lasso_pred))\n"
   ]
  },
  {
   "cell_type": "markdown",
   "metadata": {},
   "source": [
    "### Model Comparison"
   ]
  },
  {
   "cell_type": "code",
   "execution_count": 2047,
   "metadata": {},
   "outputs": [
    {
     "data": {
      "text/html": [
       "<div>\n",
       "<style scoped>\n",
       "    .dataframe tbody tr th:only-of-type {\n",
       "        vertical-align: middle;\n",
       "    }\n",
       "\n",
       "    .dataframe tbody tr th {\n",
       "        vertical-align: top;\n",
       "    }\n",
       "\n",
       "    .dataframe thead th {\n",
       "        text-align: right;\n",
       "    }\n",
       "</style>\n",
       "<table border=\"1\" class=\"dataframe\">\n",
       "  <thead>\n",
       "    <tr style=\"text-align: right;\">\n",
       "      <th></th>\n",
       "      <th>Models</th>\n",
       "      <th>Training Accuracy</th>\n",
       "      <th>Test Accuracy</th>\n",
       "      <th>Mean Absolute Error</th>\n",
       "      <th>Mean Squared Error</th>\n",
       "      <th>R2 Score</th>\n",
       "    </tr>\n",
       "  </thead>\n",
       "  <tbody>\n",
       "    <tr>\n",
       "      <th>0</th>\n",
       "      <td>Linear Regressor</td>\n",
       "      <td>0.64</td>\n",
       "      <td>0.62</td>\n",
       "      <td>3.63</td>\n",
       "      <td>2.56</td>\n",
       "      <td>0.62</td>\n",
       "    </tr>\n",
       "    <tr>\n",
       "      <th>1</th>\n",
       "      <td>Ridge Regressor</td>\n",
       "      <td>0.63</td>\n",
       "      <td>0.62</td>\n",
       "      <td>3.64</td>\n",
       "      <td>2.55</td>\n",
       "      <td>0.62</td>\n",
       "    </tr>\n",
       "    <tr>\n",
       "      <th>2</th>\n",
       "      <td>Lasso Regressor</td>\n",
       "      <td>0.63</td>\n",
       "      <td>0.62</td>\n",
       "      <td>5.34</td>\n",
       "      <td>3.04</td>\n",
       "      <td>0.23</td>\n",
       "    </tr>\n",
       "  </tbody>\n",
       "</table>\n",
       "</div>"
      ],
      "text/plain": [
       "             Models  Training Accuracy  Test Accuracy  Mean Absolute Error  \\\n",
       "0  Linear Regressor               0.64           0.62                 3.63   \n",
       "1   Ridge Regressor               0.63           0.62                 3.64   \n",
       "2   Lasso Regressor               0.63           0.62                 5.34   \n",
       "\n",
       "   Mean Squared Error  R2 Score  \n",
       "0                2.56      0.62  \n",
       "1                2.55      0.62  \n",
       "2                3.04      0.23  "
      ]
     },
     "execution_count": 2047,
     "metadata": {},
     "output_type": "execute_result"
    }
   ],
   "source": [
    "df = {'Models': [\"Linear Regressor\", \"Ridge Regressor\", \"Lasso Regressor\"],\n",
    "        \"Training Accuracy\": [0.64, 0.63, 0.63],\n",
    "        \"Test Accuracy\": [0.62, 0.62, 0.62],\n",
    "        \"Mean Absolute Error\": [3.63, 3.64, 5.34],\n",
    "        \"Mean Squared Error\": [2.56, 2.55, 3.04],\n",
    "        \"R2 Score\": [0.62, 0.62, 0.23],\n",
    "        }\n",
    "model_comparison = pd.DataFrame(data = df)\n",
    "\n",
    "# display the table of performance comparison\n",
    "model_comparison"
   ]
  },
  {
   "cell_type": "markdown",
   "metadata": {},
   "source": [
    "Observation\n",
    "\n",
    "R-squared is awesome, and both MAE and RMSE are fairly low too. These numbers indicate that the model is pretty good. \n",
    "\n",
    "The linear regressor model still had similar performance after regularization with Ridge and Lasso Regressors. Although Lasso regressor had a slightly different result"
   ]
  },
  {
   "cell_type": "markdown",
   "metadata": {},
   "source": [
    "### Now, Let us use tree based regressor models"
   ]
  },
  {
   "cell_type": "code",
   "execution_count": 2048,
   "metadata": {},
   "outputs": [],
   "source": [
    "#import the libraries\n",
    "from sklearn import metrics\n",
    "# from sklearn import model_selection\n",
    "# from sklearn import preprocessing\n",
    "# from sklearn.datasets import make_classification\n",
    "from sklearn.ensemble import ExtraTreesRegressor\n",
    "from sklearn.ensemble import GradientBoostingRegressor\n",
    "from sklearn.ensemble import RandomForestRegressor\n",
    "from sklearn.metrics import accuracy_score\n",
    "from sklearn.metrics import classification_report, confusion_matrix\n",
    "from sklearn.metrics import mean_squared_error\n",
    "from sklearn.metrics import plot_confusion_matrix\n",
    "from sklearn.model_selection import cross_val_score\n",
    "from sklearn.tree import DecisionTreeRegressor\n",
    "from sklearn.neural_network import MLPRegressor\n"
   ]
  },
  {
   "cell_type": "code",
   "execution_count": 2049,
   "metadata": {},
   "outputs": [],
   "source": [
    "# define dataset\n",
    "def Definedata():\n",
    "    X = cars.drop(columns=['Price']).values\n",
    "    y = cars['Price'].values\n",
    "    return X, y"
   ]
  },
  {
   "cell_type": "code",
   "execution_count": 2050,
   "metadata": {},
   "outputs": [],
   "source": [
    "#function to model the data\n",
    "def Models(models):\n",
    "    \n",
    "    model = models\n",
    "    X, y = Definedata() #calling a function within a function\n",
    "    X_train, X_test, y_train, y_test = train_test_split(X, y, test_size = 0.33, random_state = 25)\n",
    "    model.fit(X_train,y_train)\n",
    "    y_pred = model.predict(X_test)\n",
    "    y_total = model.predict(X)\n",
    "    print('Mean Absolute  Error      : ', metrics.mean_absolute_error(y_test, y_pred))\n",
    "    print('Mean Squared  Error      : ', metrics.mean_squared_error(y_test, y_pred))\n",
    "    print('R Squared  Error : ', np.sqrt(metrics.mean_squared_error(y_test, y_pred)))\n",
    "    print('Accuracy on Traing set   : ', model.score(X_train,y_train))\n",
    "    print('Accuracy on Testing set  : ', model.score(X_test,y_test))\n",
    "    return y_total, y"
   ]
  },
  {
   "cell_type": "code",
   "execution_count": 2051,
   "metadata": {},
   "outputs": [],
   "source": [
    "Acc = pd.DataFrame(index=None, columns=['model','Mean Absolute  Error','Mean Squared  Error','R Squared  Error','Accuracy on Training set','Accuracy on Testing set'])"
   ]
  },
  {
   "cell_type": "markdown",
   "metadata": {},
   "source": [
    "### Calling the functions to define the data, build the model, and get feature importance"
   ]
  },
  {
   "cell_type": "code",
   "execution_count": 2052,
   "metadata": {},
   "outputs": [],
   "source": [
    "#calling the function to define the data\n",
    "X, y = Definedata()\n",
    "X_train, X_test, y_train, y_test = train_test_split(X, y, test_size = 0.30, random_state = 25)"
   ]
  },
  {
   "cell_type": "code",
   "execution_count": 2053,
   "metadata": {},
   "outputs": [],
   "source": [
    "#create an instance of the regressors\n",
    "regressors = [('DecisionTreeRegressor',DecisionTreeRegressor()),\n",
    "              ('GradientBoostingRegressor', GradientBoostingRegressor()),\n",
    "              ('RandomForestRegressor', RandomForestRegressor()),             \n",
    "              ('ExtraTreesRegressor',ExtraTreesRegressor())]           "
   ]
  },
  {
   "cell_type": "code",
   "execution_count": 2054,
   "metadata": {},
   "outputs": [
    {
     "name": "stdout",
     "output_type": "stream",
     "text": [
      "model                      DecisionTreeRegressor\n",
      "Mean Absolute Error                     3.245395\n",
      "Mean Squared  Error                    44.936539\n",
      "R Squared Score                         6.703472\n",
      "Accuracy on Traing set                  0.999981\n",
      "Accuracy on Testing set                 0.551027\n",
      "dtype: object\n",
      "model                      GradientBoostingRegressor\n",
      "Mean Absolute Error                         2.598151\n",
      "Mean Squared  Error                        22.545431\n",
      "R Squared Score                             4.748203\n",
      "Accuracy on Traing set                      0.869968\n",
      "Accuracy on Testing set                     0.774743\n",
      "dtype: object\n",
      "model                      RandomForestRegressor\n",
      "Mean Absolute Error                     2.512499\n",
      "Mean Squared  Error                    22.300914\n",
      "R Squared Score                         4.722384\n",
      "Accuracy on Traing set                  0.962175\n",
      "Accuracy on Testing set                 0.777186\n",
      "dtype: object\n",
      "model                      ExtraTreesRegressor\n",
      "Mean Absolute Error                   2.600483\n",
      "Mean Squared  Error                   24.53387\n",
      "R Squared Score                       4.953168\n",
      "Accuracy on Traing set                0.999981\n",
      "Accuracy on Testing set               0.754876\n",
      "dtype: object\n"
     ]
    }
   ],
   "source": [
    "for mod in regressors:\n",
    "    name = mod[0]\n",
    "    model = mod[1]\n",
    "    model.fit(X_train,y_train)\n",
    "    y_pred = model.predict(X_test)\n",
    "    \n",
    "    MAE = metrics.mean_absolute_error(y_test, y_pred)\n",
    "    MSE = metrics.mean_squared_error(y_test, y_pred)\n",
    "    RMSE = np.sqrt(metrics.mean_squared_error(y_test, y_pred))\n",
    "    ATrS =  model.score(X_train,y_train)\n",
    "    ATeS = model.score(X_test,y_test)\n",
    "    \n",
    "    print(pd.Series({'model':name,'Mean Absolute Error': MAE, 'Mean Squared  Error': MSE,'R Squared Score': RMSE,'Accuracy on Traing set':ATrS,'Accuracy on Testing set':ATeS}))"
   ]
  },
  {
   "cell_type": "markdown",
   "metadata": {},
   "source": [
    "In terms of the mean squared error, Gradient boosting performed better than the other models. Also gradient boosting model is the only model that did not overfit, in otherwords it generalised well. "
   ]
  },
  {
   "cell_type": "markdown",
   "metadata": {},
   "source": [
    "Now let us tune the models for better perfromance"
   ]
  },
  {
   "cell_type": "markdown",
   "metadata": {},
   "source": [
    "### Model Tuning"
   ]
  },
  {
   "cell_type": "code",
   "execution_count": 2055,
   "metadata": {},
   "outputs": [],
   "source": [
    "#create an instance of the regressors\n",
    "regressors2 = [('DecisionTreeRegressor',DecisionTreeRegressor(max_depth=4,min_samples_leaf=1,max_features='sqrt',random_state=0)),\n",
    "              ('GradientBoostingRegressor', GradientBoostingRegressor(random_state=21,learning_rate=0.01,max_depth=4, n_estimators=3000,alpha=0.1)),\n",
    "              ('RandomForestRegressor', RandomForestRegressor(n_estimators=1000,min_samples_split=2,min_samples_leaf=1,max_features='sqrt',max_depth=4)),             \n",
    "              ('ExtraTreesRegressor',ExtraTreesRegressor(max_depth=4,min_samples_leaf=1,max_features='sqrt',random_state=0))]           "
   ]
  },
  {
   "cell_type": "code",
   "execution_count": 2056,
   "metadata": {},
   "outputs": [],
   "source": [
    "Acc2 = pd.DataFrame(index=None, columns=['model','Mean Squared  Error','Accuracy on Traing set','Accuracy on Testing set'])"
   ]
  },
  {
   "cell_type": "code",
   "execution_count": 2057,
   "metadata": {},
   "outputs": [
    {
     "name": "stdout",
     "output_type": "stream",
     "text": [
      "model                      DecisionTreeRegressor\n",
      "Mean Absolute Error                     3.948345\n",
      "Mean Squared  Error                    40.986758\n",
      "R Squared Score                          6.40209\n",
      "Accuracy on Traing set                  0.607048\n",
      "Accuracy on Testing set                  0.59049\n",
      "dtype: object\n",
      "model                      GradientBoostingRegressor\n",
      "Mean Absolute Error                          2.49887\n",
      "Mean Squared  Error                        22.782417\n",
      "R Squared Score                             4.773093\n",
      "Accuracy on Traing set                      0.939413\n",
      "Accuracy on Testing set                     0.772375\n",
      "dtype: object\n",
      "model                      RandomForestRegressor\n",
      "Mean Absolute Error                     3.362211\n",
      "Mean Squared  Error                    29.750517\n",
      "R Squared Score                         5.454403\n",
      "Accuracy on Traing set                  0.716217\n",
      "Accuracy on Testing set                 0.702755\n",
      "dtype: object\n",
      "model                      ExtraTreesRegressor\n",
      "Mean Absolute Error                   4.130488\n",
      "Mean Squared  Error                  45.113461\n",
      "R Squared Score                       6.716655\n",
      "Accuracy on Traing set                 0.56887\n",
      "Accuracy on Testing set                0.54926\n",
      "dtype: object\n"
     ]
    }
   ],
   "source": [
    "for mod in regressors2:\n",
    "    name = mod[0]\n",
    "    model = mod[1]\n",
    "    model.fit(X_train,y_train)\n",
    "    y_pred = model.predict(X_test)\n",
    "    \n",
    "    MAE = metrics.mean_absolute_error(y_test, y_pred)\n",
    "    MSE = metrics.mean_squared_error(y_test, y_pred)\n",
    "    RMSE = np.sqrt(metrics.mean_squared_error(y_test, y_pred))\n",
    "    ATrS =  model.score(X_train,y_train)\n",
    "    ATeS = model.score(X_test,y_test)\n",
    "    \n",
    "    print(pd.Series({'model':name,'Mean Absolute Error': MAE, 'Mean Squared  Error': MSE,'R Squared Score': RMSE,'Accuracy on Traing set':ATrS,'Accuracy on Testing set':ATeS}))"
   ]
  },
  {
   "cell_type": "markdown",
   "metadata": {},
   "source": [
    "### Model Comparison for Tree based Regressors"
   ]
  },
  {
   "cell_type": "code",
   "execution_count": 2058,
   "metadata": {},
   "outputs": [
    {
     "data": {
      "text/html": [
       "<div>\n",
       "<style scoped>\n",
       "    .dataframe tbody tr th:only-of-type {\n",
       "        vertical-align: middle;\n",
       "    }\n",
       "\n",
       "    .dataframe tbody tr th {\n",
       "        vertical-align: top;\n",
       "    }\n",
       "\n",
       "    .dataframe thead th {\n",
       "        text-align: right;\n",
       "    }\n",
       "</style>\n",
       "<table border=\"1\" class=\"dataframe\">\n",
       "  <thead>\n",
       "    <tr style=\"text-align: right;\">\n",
       "      <th></th>\n",
       "      <th>Models</th>\n",
       "      <th>Training Accuracy</th>\n",
       "      <th>Test Accuracy</th>\n",
       "      <th>Mean Absolute Error</th>\n",
       "      <th>Mean Squared Error</th>\n",
       "      <th>R2 Score</th>\n",
       "    </tr>\n",
       "  </thead>\n",
       "  <tbody>\n",
       "    <tr>\n",
       "      <th>0</th>\n",
       "      <td>Decision Tree Regressor</td>\n",
       "      <td>0.61</td>\n",
       "      <td>0.59</td>\n",
       "      <td>3.95</td>\n",
       "      <td>40.99</td>\n",
       "      <td>6.40</td>\n",
       "    </tr>\n",
       "    <tr>\n",
       "      <th>1</th>\n",
       "      <td>Gradient Boosting Regressor</td>\n",
       "      <td>0.94</td>\n",
       "      <td>0.77</td>\n",
       "      <td>2.50</td>\n",
       "      <td>22.98</td>\n",
       "      <td>4.79</td>\n",
       "    </tr>\n",
       "    <tr>\n",
       "      <th>2</th>\n",
       "      <td>Random Forest Regressor</td>\n",
       "      <td>0.71</td>\n",
       "      <td>0.70</td>\n",
       "      <td>3.39</td>\n",
       "      <td>29.96</td>\n",
       "      <td>5.47</td>\n",
       "    </tr>\n",
       "    <tr>\n",
       "      <th>3</th>\n",
       "      <td>Extra Tree Regressor</td>\n",
       "      <td>0.57</td>\n",
       "      <td>0.55</td>\n",
       "      <td>4.14</td>\n",
       "      <td>45.44</td>\n",
       "      <td>6.74</td>\n",
       "    </tr>\n",
       "  </tbody>\n",
       "</table>\n",
       "</div>"
      ],
      "text/plain": [
       "                        Models  Training Accuracy  Test Accuracy  \\\n",
       "0      Decision Tree Regressor               0.61           0.59   \n",
       "1  Gradient Boosting Regressor               0.94           0.77   \n",
       "2      Random Forest Regressor               0.71           0.70   \n",
       "3         Extra Tree Regressor               0.57           0.55   \n",
       "\n",
       "   Mean Absolute Error  Mean Squared Error  R2 Score  \n",
       "0                 3.95               40.99      6.40  \n",
       "1                 2.50               22.98      4.79  \n",
       "2                 3.39               29.96      5.47  \n",
       "3                 4.14               45.44      6.74  "
      ]
     },
     "execution_count": 2058,
     "metadata": {},
     "output_type": "execute_result"
    }
   ],
   "source": [
    "df2 = {'Models': [\"Decision Tree Regressor\", \"Gradient Boosting Regressor\", \"Random Forest Regressor\", \"Extra Tree Regressor\"],\n",
    "        \"Training Accuracy\": [0.61, 0.94, 0.71, 0.57],\n",
    "        \"Test Accuracy\": [0.59, 0.77, 0.70, 0.55],\n",
    "        \"Mean Absolute Error\": [3.95, 2.50, 3.39, 4.14],\n",
    "        \"Mean Squared Error\": [40.99, 22.98, 29.96, 45.44],\n",
    "        \"R2 Score\": [6.40, 4.79, 5.47,6.74]\n",
    "        }\n",
    "model_comparison2 = pd.DataFrame(data = df2)\n",
    "\n",
    "# display the table of performance comparison\n",
    "model_comparison2"
   ]
  },
  {
   "cell_type": "markdown",
   "metadata": {},
   "source": [
    "We had to perform hyperparameter tuning on the different models\n",
    "\n",
    "For the Decision Tree model, we set a max depth of 4, min_samples_leaf of 1,max_features was sqrt and set a random seed for reproducibility\n",
    "\n",
    "For the Gradient Boosting Model, we set learning rate of 0.01,n_estimators of 1000,max_depth of 4, alpha value of 0.1 and also set a random seed for reproducibilty\n",
    "\n",
    "For Random Forest model, we set a max depth of 4, n_estimators of 1000,min_samples_leaf of 1, min_samples_split of 2 and min_features as sqrt.\n",
    "\n",
    "For the ExtraTrees Regressor model, we set a max depth of 4, min_samples_leaf of 1,max_features was sqrt and set a random seed for reproducibility"
   ]
  },
  {
   "cell_type": "markdown",
   "metadata": {},
   "source": [
    "After tuning, the models performed better. The Gradient boosting model had a lower Mean square error, Mean Absolute error and R squared score. But in terms of the accuracy, all the models overfits.\n",
    "\n",
    "Conclusively, the Gradient Boosting model performed better than the other models before tuning and after tuning. This is because the smaller the errors, the closer you are to finding the line of best fit"
   ]
  },
  {
   "cell_type": "markdown",
   "metadata": {},
   "source": [
    "### FEATURE IMPORTANCE PLOT"
   ]
  },
  {
   "cell_type": "code",
   "execution_count": 2064,
   "metadata": {},
   "outputs": [],
   "source": [
    "#function to get feature importance\n",
    "def Featureimportances(models,titles):\n",
    "    model = models\n",
    "    model.fit(X_train,y_train)\n",
    "    plt.plot(model.feature_importances_,linestyle='dashdot', linewidth='1', color='blue')\n",
    "    plt.xticks(range(cars.shape[1]),cars,rotation=60)\n",
    "    plt.title(titles)\n",
    "    plt.show();"
   ]
  },
  {
   "cell_type": "code",
   "execution_count": 2065,
   "metadata": {},
   "outputs": [],
   "source": [
    "#create an instance of the models\n",
    "d_tree = DecisionTreeRegressor(max_depth=4,min_samples_leaf=1,max_features='sqrt',random_state=0)\n",
    "gbr = GradientBoostingRegressor(random_state=21,learning_rate=0.01,max_depth=4, n_estimators=3000,alpha=0.1)\n",
    "rf = RandomForestRegressor(n_estimators=1000,min_samples_split=2,min_samples_leaf=1,max_features='sqrt',max_depth=4)           \n",
    "xtree = ExtraTreesRegressor(max_depth=4,min_samples_leaf=1,max_features='sqrt',random_state=0)         "
   ]
  },
  {
   "cell_type": "code",
   "execution_count": 2063,
   "metadata": {},
   "outputs": [
    {
     "name": "stderr",
     "output_type": "stream",
     "text": [
      "C:\\Users\\User\\AppData\\Local\\Temp\\ipykernel_22580\\2391988871.py:8: UserWarning: Matplotlib is currently using agg, which is a non-GUI backend, so cannot show the figure.\n",
      "  plt.show()\n",
      "C:\\Users\\User\\AppData\\Local\\Temp\\ipykernel_22580\\2391988871.py:8: UserWarning: Matplotlib is currently using agg, which is a non-GUI backend, so cannot show the figure.\n",
      "  plt.show()\n",
      "C:\\Users\\User\\AppData\\Local\\Temp\\ipykernel_22580\\2391988871.py:8: UserWarning: Matplotlib is currently using agg, which is a non-GUI backend, so cannot show the figure.\n",
      "  plt.show()\n",
      "C:\\Users\\User\\AppData\\Local\\Temp\\ipykernel_22580\\2391988871.py:8: UserWarning: Matplotlib is currently using agg, which is a non-GUI backend, so cannot show the figure.\n",
      "  plt.show()\n"
     ]
    },
    {
     "data": {
      "image/png": "[encoded data removed]",
      "text/plain": [
       "<Figure size 432x288 with 1 Axes>"
      ]
     },
     "metadata": {
      "needs_background": "light"
     },
     "output_type": "display_data"
    }
   ],
   "source": [
    "#calling the fucntion for feature importance\n",
    "Featureimportances(models= d_tree,titles='Decision Tree Regressor Feature Importances')\n",
    "Featureimportances(models= gbr,titles='Gradient Boosting Regressor Feature Importances')\n",
    "Featureimportances(models= rf,titles='Random Forest Regressor Feature Importances')\n",
    "Featureimportances(models= xtree,titles='ExtraTree Regressor Feature Importances')"
   ]
  },
  {
   "cell_type": "markdown",
   "metadata": {},
   "source": [
    "From the feature importance of the Decision Tree Regressor, it shows that our most important feature is New Price followed by the Power\n",
    "\n",
    "From the feature importance of the Gradient Boost Regressor, it shows that our most important feature is New Price followed by Power\n",
    "\n",
    "From the feature importance of the Random Forest Regressor, it shows that our most important feature is New Price followed by Power\n",
    "\n",
    "From the feature importance of the ExtraTree Regressor, it shows that our most important feature is Transmission followed by the New Price\n",
    "\n"
   ]
  },
  {
   "cell_type": "markdown",
   "metadata": {},
   "source": [
    "Conclusively, it can be said that the price of new cars is a huge factor in determining the price of used cars. Then closely followed by the Power"
   ]
  },
  {
   "cell_type": "markdown",
   "metadata": {},
   "source": [
    "## Conclusion"
   ]
  },
  {
   "cell_type": "markdown",
   "metadata": {},
   "source": [
    "After visualizing,analysing, and building a model to predict the price of the used cars, we can say that:\n",
    "\n",
    "\n",
    "\n",
    "Diesel cars are the most number of car for sale and have high price too, followed by petrol cars\n",
    "\n",
    "There are more manual cars for sale but automatic cars have highest price\n",
    "\n",
    "Maruti, Hyundai and Honda car Brands are in top 3 cars for sale\n",
    "\n",
    "Less driven cars have high price\n",
    "\n",
    "First Owner type cars are the most number of cars for sale and they have the highest price too\n",
    "\n",
    "Mileage and Kilometers driven has a negative correlation with the price of cars, in other words the price decreases as these features increase\n",
    "\n",
    "Engine, Power and Seats has a positive correlation with the price of cars, in other words the price increases as these features increase\n",
    "\n",
    "Cultus VXR,Alto and Corolla GLI car model are top 3 car model for sale\n",
    "\n",
    "Most of the cars were registered for sale in the year between 2009-2018\n",
    "\n",
    "Price of Cars amanufactured between 2009 and 2016 went up the most, with 2015 being the peak\n",
    "\n",
    "Price of new cars is the top determining factor to consider when fixing the price for used cars\n",
    "\n",
    "Linear Regression Model would be recommended to predict the price of used cars as it has a better performance than the tree based models\n",
    "\n",
    "Gradient Boosting Regressor is the best performing tree based model"
   ]
  },
  {
   "cell_type": "markdown",
   "metadata": {},
   "source": []
  }
 ],
 "metadata": {
  "interpreter": {
   "hash": "8fac594bfae6525c0c41b4041d2d72effa188cc8ead05f81b1fab2bb098927fb"
  },
  "kernelspec": {
   "display_name": "Python 3.9.7 ('base')",
   "language": "python",
   "name": "python3"
  },
  "language_info": {
   "codemirror_mode": {
    "name": "ipython",
    "version": 3
   },
   "file_extension": ".py",
   "mimetype": "text/x-python",
   "name": "python",
   "nbconvert_exporter": "python",
   "pygments_lexer": "ipython3",
   "version": "3.9.7"
  },
  "orig_nbformat": 4
 },
 "nbformat": 4,
 "nbformat_minor": 2
}
